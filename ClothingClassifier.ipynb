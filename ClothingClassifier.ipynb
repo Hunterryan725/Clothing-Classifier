{
  "nbformat": 4,
  "nbformat_minor": 0,
  "metadata": {
    "colab": {
      "name": "FinalProject.ipynb",
      "provenance": [],
      "collapsed_sections": []
    },
    "kernelspec": {
      "display_name": "Python 3",
      "name": "python3"
    },
    "accelerator": "GPU"
  },
  "cells": [
    {
      "cell_type": "code",
      "metadata": {
        "id": "VaBUYm8I8Ohr"
      },
      "source": [
        "from google.colab import files\n",
        "import tensorflow as tf\n",
        "import numpy as np\n",
        "from matplotlib import pyplot\n",
        "import matplotlib.pyplot as plt\n",
        "import numpy as np\n",
        "from PIL import Image\n",
        "import matplotlib.pyplot as plt\n",
        "import scipy\n",
        "import scipy.signal\n",
        "import cv2\n",
        "from tensorflow.python import keras\n",
        "from tensorflow.python.keras.models import Sequential\n",
        "from tensorflow.python.keras.layers import Dense, Flatten, Conv2D, Dropout, MaxPooling2D\n",
        "from sklearn.model_selection import KFold\n",
        "from sklearn.metrics import confusion_matrix\n",
        "from sklearn.metrics import classification_report\n",
        "from sklearn.cluster import KMeans\n",
        "from sklearn.decomposition import PCA\n",
        "from sklearn.preprocessing import StandardScaler\n",
        "from google.colab import files\n",
        "import tensorflow as tf\n",
        "import numpy as np\n",
        "import matplotlib.pyplot as plt\n",
        "import numpy as np\n",
        "from PIL import Image\n",
        "import matplotlib.pyplot as plt\n",
        "import scipy\n",
        "import scipy.signal\n",
        "import cv2\n",
        "from sklearn.model_selection import KFold"
      ],
      "execution_count": null,
      "outputs": []
    },
    {
      "cell_type": "markdown",
      "metadata": {
        "id": "Mr75Vvl5--Xx"
      },
      "source": [
        "Import the Data"
      ]
    },
    {
      "cell_type": "code",
      "metadata": {
        "colab": {
          "base_uri": "https://localhost:8080/"
        },
        "id": "fFke0Ojq81T9",
        "outputId": "b90eea59-29df-43c2-ac19-60b6f88d19ef"
      },
      "source": [
        "# Load the fashion-mnist pre-shuffled train data and test data\n",
        "(x_train, y_train), (x_test, y_test) = tf.keras.datasets.fashion_mnist.load_data()\n",
        "\n",
        "# Print Shape of the data\n",
        "print(\"x_train shape:\", x_train.shape, \"y_train shape:\", y_train.shape)\n",
        "print(\"x_train shape:\", x_test.shape, \"y_train shape:\", y_test.shape)"
      ],
      "execution_count": null,
      "outputs": [
        {
          "output_type": "stream",
          "text": [
            "Downloading data from https://storage.googleapis.com/tensorflow/tf-keras-datasets/train-labels-idx1-ubyte.gz\n",
            "32768/29515 [=================================] - 0s 0us/step\n",
            "Downloading data from https://storage.googleapis.com/tensorflow/tf-keras-datasets/train-images-idx3-ubyte.gz\n",
            "26427392/26421880 [==============================] - 0s 0us/step\n",
            "Downloading data from https://storage.googleapis.com/tensorflow/tf-keras-datasets/t10k-labels-idx1-ubyte.gz\n",
            "8192/5148 [===============================================] - 0s 0us/step\n",
            "Downloading data from https://storage.googleapis.com/tensorflow/tf-keras-datasets/t10k-images-idx3-ubyte.gz\n",
            "4423680/4422102 [==============================] - 0s 0us/step\n",
            "x_train shape: (60000, 28, 28) y_train shape: (60000,)\n",
            "x_train shape: (10000, 28, 28) y_train shape: (10000,)\n"
          ],
          "name": "stdout"
        }
      ]
    },
    {
      "cell_type": "code",
      "metadata": {
        "colab": {
          "base_uri": "https://localhost:8080/",
          "height": 282
        },
        "id": "gPEQX_l8QhSH",
        "outputId": "c2003d03-670c-4ffb-9e38-eeed7e5a181e"
      },
      "source": [
        "plt.imshow(x_train[0,:,:], cmap=\"gray\")"
      ],
      "execution_count": null,
      "outputs": [
        {
          "output_type": "execute_result",
          "data": {
            "text/plain": [
              "<matplotlib.image.AxesImage at 0x7f5b30ac3da0>"
            ]
          },
          "metadata": {
            "tags": []
          },
          "execution_count": 3
        },
        {
          "output_type": "display_data",
          "data": {
            "image/png": "[encoded data removed]",
            "text/plain": [
              "<Figure size 432x288 with 1 Axes>"
            ]
          },
          "metadata": {
            "tags": [],
            "needs_background": "light"
          }
        }
      ]
    },
    {
      "cell_type": "markdown",
      "metadata": {
        "id": "76ccD4EE_Iss"
      },
      "source": [
        "Visualize the Data"
      ]
    },
    {
      "cell_type": "code",
      "metadata": {
        "id": "3nx5t_Y8_Cjg"
      },
      "source": [
        "# label the data\n",
        "fashion_mnist_labels = [\"T-shirt/top\",  # index 0\n",
        "                        \"Trouser\",      # index 1\n",
        "                        \"Pullover\",     # index 2 \n",
        "                        \"Dress\",        # index 3 \n",
        "                        \"Coat\",         # index 4\n",
        "                        \"Sandal\",       # index 5\n",
        "                        \"Shirt\",        # index 6 \n",
        "                        \"Sneaker\",      # index 7 \n",
        "                        \"Bag\",          # index 8 \n",
        "                        \"Ankle boot\"]   # index 9"
      ],
      "execution_count": null,
      "outputs": []
    },
    {
      "cell_type": "code",
      "metadata": {
        "id": "fb2ALZUDqkZ_"
      },
      "source": [
        "# label the data\n",
        "fashion_mnist_labels2 = [\"0: T-shirt/top\",  # index 0\n",
        "                        \"1: Trouser\",      # index 1\n",
        "                        \"2: Pullover\",     # index 2 \n",
        "                        \"3: Dress\",        # index 3 \n",
        "                        \"4: Coat\",         # index 4\n",
        "                        \"5: Sandal\",       # index 5\n",
        "                        \"6: Shirt\",        # index 6 \n",
        "                        \"7: Sneaker\",      # index 7 \n",
        "                        \"8: Bag\",          # index 8 \n",
        "                        \"9: Ankle boot\"]   # index 9"
      ],
      "execution_count": null,
      "outputs": []
    },
    {
      "cell_type": "code",
      "metadata": {
        "colab": {
          "base_uri": "https://localhost:8080/",
          "height": 1138
        },
        "id": "oK9pPv0mCHje",
        "outputId": "fb8845b3-9d82-4562-befd-46903aa92f49"
      },
      "source": [
        "# visualize the data\n",
        "f, axes = plt.subplots(10,5,figsize=(5*2,10*2))\n",
        "plt.axis('off')\n",
        "for c in range(10):\n",
        "    class_examples = x_train[(y_train==c).ravel()]\n",
        "    for i in range(5):\n",
        "        ax = axes[c,i]\n",
        "        ax.imshow(class_examples[i].squeeze(),cmap='gray')\n",
        "        ax.set_xticks([]); ax.set_yticks([])\n",
        "        ax.set_title('Class {}'.format(fashion_mnist_labels2[c]))"
      ],
      "execution_count": null,
      "outputs": [
        {
          "output_type": "display_data",
          "data": {
            "image/png": "[encoded data removed]",
            "text/plain": [
              "<Figure size 720x1440 with 50 Axes>"
            ]
          },
          "metadata": {
            "tags": []
          }
        }
      ]
    },
    {
      "cell_type": "markdown",
      "metadata": {
        "id": "4yPw2N1wAt4R"
      },
      "source": [
        "Normalize the Data"
      ]
    },
    {
      "cell_type": "code",
      "metadata": {
        "id": "eXhdnpVr_1gN"
      },
      "source": [
        "x_train = x_train.astype('float32') / 255\n",
        "x_test = x_test.astype('float32') / 255"
      ],
      "execution_count": null,
      "outputs": []
    },
    {
      "cell_type": "code",
      "metadata": {
        "colab": {
          "base_uri": "https://localhost:8080/"
        },
        "id": "S5i6wGmyRL-c",
        "outputId": "dcb4b0ae-ac29-40e1-fde6-cd130e0aece2"
      },
      "source": [
        "# break data into train and validate\n",
        "(x_train_1, x_valid_1) = x_train[12000:], x_train[:12000] \n",
        "(y_train_1, y_valid_1) = y_train[12000:], y_train[:12000]\n",
        "\n",
        "# reshape data\n",
        "w, h = 28, 28\n",
        "x_train_1 = x_train_1.reshape(x_train_1.shape[0], w, h, 1)\n",
        "x_valid_1 = x_valid_1.reshape(x_valid_1.shape[0], w, h, 1)\n",
        "x_test_1 = x_test.reshape(x_test.shape[0], w, h, 1)\n",
        "\n",
        "\n",
        "y_train_1 = tf.keras.utils.to_categorical(y_train_1, 10)\n",
        "y_valid_1 = tf.keras.utils.to_categorical(y_valid_1, 10)\n",
        "y_test_1 = tf.keras.utils.to_categorical(y_test, 10)"
      ],
      "execution_count": null,
      "outputs": [
        {
          "output_type": "stream",
          "text": [
            "x_train shape: (48000, 28, 28, 1) y_train shape: (48000, 10)\n",
            "48000 train set\n",
            "12000 validation set\n",
            "10000 test set\n"
          ],
          "name": "stdout"
        }
      ]
    },
    {
      "cell_type": "markdown",
      "metadata": {
        "id": "eeuvHfbhQPEZ"
      },
      "source": [
        "Train Best Model for Fashion MNIST Dataset"
      ]
    },
    {
      "cell_type": "code",
      "metadata": {
        "colab": {
          "base_uri": "https://localhost:8080/"
        },
        "id": "HbXqnU6IQ-c3",
        "outputId": "2f2d7b6d-ef8d-41a1-da78-abfe2a3802e2"
      },
      "source": [
        "model_1 = tf.keras.Sequential()\n",
        "\n",
        "model_1.add(Conv2D(64, kernel_size=(3, 3),activation='relu',kernel_initializer='he_normal', padding='same',input_shape=(28, 28, 1)))\n",
        "model_1.add(Conv2D(64, kernel_size=(3, 3), activation='relu',padding='same'))\n",
        "model_1.add(tf.keras.layers.BatchNormalization())\n",
        "model_1.add(MaxPooling2D(pool_size=(2, 2)))\n",
        "model_1.add(Dropout(0.3))\n",
        "\n",
        "model_1.add(Conv2D(128, kernel_size=(3, 3),activation='relu',kernel_initializer='he_normal', padding='same',input_shape=(28, 28, 1)))\n",
        "model_1.add(Conv2D(128, kernel_size=(3, 3), padding='same', activation='relu'))\n",
        "model_1.add(tf.keras.layers.BatchNormalization())\n",
        "model_1.add(MaxPooling2D(pool_size=(2, 2)))\n",
        "model_1.add(Dropout(0.3))\n",
        "\n",
        "model_1.add(Conv2D(128, kernel_size=(3, 3), activation='relu', kernel_initializer='he_normal', padding='same', input_shape=(28, 28, 1)))\n",
        "model_1.add(Conv2D(128, kernel_size=(3, 3), padding='same', activation='relu'))\n",
        "model_1.add(tf.keras.layers.BatchNormalization())\n",
        "model_1.add(MaxPooling2D(pool_size=(2, 2)))\n",
        "model_1.add(Dropout(0.3))\n",
        "\n",
        "model_1.add(Flatten())\n",
        "model_1.add(Dense(1024, activation='relu'))\n",
        "model_1.add(Dropout(0.3))\n",
        "model_1.add(Dense(256, activation='relu'))\n",
        "model_1.add(Dropout(0.3))\n",
        "model_1.add(Dense(10, activation='softmax'))\n",
        "\n",
        "model_1.summary()"
      ],
      "execution_count": null,
      "outputs": [
        {
          "output_type": "stream",
          "text": [
            "Model: \"sequential\"\n",
            "_________________________________________________________________\n",
            "Layer (type)                 Output Shape              Param #   \n",
            "=================================================================\n",
            "conv2d (Conv2D)              (None, 28, 28, 64)        640       \n",
            "_________________________________________________________________\n",
            "conv2d_1 (Conv2D)            (None, 28, 28, 64)        36928     \n",
            "_________________________________________________________________\n",
            "batch_normalization (BatchNo (None, 28, 28, 64)        256       \n",
            "_________________________________________________________________\n",
            "max_pooling2d (MaxPooling2D) (None, 14, 14, 64)        0         \n",
            "_________________________________________________________________\n",
            "dropout (Dropout)            (None, 14, 14, 64)        0         \n",
            "_________________________________________________________________\n",
            "conv2d_2 (Conv2D)            (None, 14, 14, 128)       73856     \n",
            "_________________________________________________________________\n",
            "conv2d_3 (Conv2D)            (None, 14, 14, 128)       147584    \n",
            "_________________________________________________________________\n",
            "batch_normalization_1 (Batch (None, 14, 14, 128)       512       \n",
            "_________________________________________________________________\n",
            "max_pooling2d_1 (MaxPooling2 (None, 7, 7, 128)         0         \n",
            "_________________________________________________________________\n",
            "dropout_1 (Dropout)          (None, 7, 7, 128)         0         \n",
            "_________________________________________________________________\n",
            "conv2d_4 (Conv2D)            (None, 7, 7, 128)         147584    \n",
            "_________________________________________________________________\n",
            "conv2d_5 (Conv2D)            (None, 7, 7, 128)         147584    \n",
            "_________________________________________________________________\n",
            "batch_normalization_2 (Batch (None, 7, 7, 128)         512       \n",
            "_________________________________________________________________\n",
            "max_pooling2d_2 (MaxPooling2 (None, 3, 3, 128)         0         \n",
            "_________________________________________________________________\n",
            "dropout_2 (Dropout)          (None, 3, 3, 128)         0         \n",
            "_________________________________________________________________\n",
            "flatten (Flatten)            (None, 1152)              0         \n",
            "_________________________________________________________________\n",
            "dense (Dense)                (None, 1024)              1180672   \n",
            "_________________________________________________________________\n",
            "dropout_3 (Dropout)          (None, 1024)              0         \n",
            "_________________________________________________________________\n",
            "dense_1 (Dense)              (None, 256)               262400    \n",
            "_________________________________________________________________\n",
            "dropout_4 (Dropout)          (None, 256)               0         \n",
            "_________________________________________________________________\n",
            "dense_2 (Dense)              (None, 10)                2570      \n",
            "=================================================================\n",
            "Total params: 2,001,098\n",
            "Trainable params: 2,000,458\n",
            "Non-trainable params: 640\n",
            "_________________________________________________________________\n"
          ],
          "name": "stdout"
        }
      ]
    },
    {
      "cell_type": "code",
      "metadata": {
        "id": "nxUORYo-Qiu9"
      },
      "source": [
        "model_1.compile(loss='categorical_crossentropy', optimizer='adam', metrics=['accuracy'])"
      ],
      "execution_count": null,
      "outputs": []
    },
    {
      "cell_type": "code",
      "metadata": {
        "colab": {
          "base_uri": "https://localhost:8080/"
        },
        "id": "3oqZaQrjQ2CZ",
        "outputId": "c4f21b43-91e4-451e-fa4a-82de6d15d574"
      },
      "source": [
        "model_1.fit(x_train_1, y_train_1, batch_size=256, epochs=30, validation_data=(x_valid_1, y_valid_1))"
      ],
      "execution_count": null,
      "outputs": [
        {
          "output_type": "stream",
          "text": [
            "Epoch 1/30\n",
            "188/188 [==============================] - 16s 44ms/step - loss: 1.1113 - accuracy: 0.6405 - val_loss: 1.2623 - val_accuracy: 0.5493\n",
            "Epoch 2/30\n",
            "188/188 [==============================] - 7s 40ms/step - loss: 0.4158 - accuracy: 0.8429 - val_loss: 0.5715 - val_accuracy: 0.7793\n",
            "Epoch 3/30\n",
            "188/188 [==============================] - 8s 40ms/step - loss: 0.3370 - accuracy: 0.8769 - val_loss: 0.3382 - val_accuracy: 0.8709\n",
            "Epoch 4/30\n",
            "188/188 [==============================] - 8s 41ms/step - loss: 0.2931 - accuracy: 0.8913 - val_loss: 0.2688 - val_accuracy: 0.8970\n",
            "Epoch 5/30\n",
            "188/188 [==============================] - 8s 40ms/step - loss: 0.2785 - accuracy: 0.8974 - val_loss: 0.2397 - val_accuracy: 0.9099\n",
            "Epoch 6/30\n",
            "188/188 [==============================] - 8s 40ms/step - loss: 0.2543 - accuracy: 0.9057 - val_loss: 0.2332 - val_accuracy: 0.9135\n",
            "Epoch 7/30\n",
            "188/188 [==============================] - 8s 41ms/step - loss: 0.2341 - accuracy: 0.9143 - val_loss: 0.2097 - val_accuracy: 0.9272\n",
            "Epoch 8/30\n",
            "188/188 [==============================] - 8s 41ms/step - loss: 0.2300 - accuracy: 0.9137 - val_loss: 0.2077 - val_accuracy: 0.9234\n",
            "Epoch 9/30\n",
            "188/188 [==============================] - 8s 41ms/step - loss: 0.2133 - accuracy: 0.9214 - val_loss: 0.2169 - val_accuracy: 0.9179\n",
            "Epoch 10/30\n",
            "188/188 [==============================] - 8s 41ms/step - loss: 0.1969 - accuracy: 0.9270 - val_loss: 0.2123 - val_accuracy: 0.9222\n",
            "Epoch 11/30\n",
            "188/188 [==============================] - 8s 41ms/step - loss: 0.1962 - accuracy: 0.9274 - val_loss: 0.2281 - val_accuracy: 0.9210\n",
            "Epoch 12/30\n",
            "188/188 [==============================] - 8s 41ms/step - loss: 0.1925 - accuracy: 0.9284 - val_loss: 0.2113 - val_accuracy: 0.9242\n",
            "Epoch 13/30\n",
            "188/188 [==============================] - 8s 41ms/step - loss: 0.1746 - accuracy: 0.9357 - val_loss: 0.1918 - val_accuracy: 0.9320\n",
            "Epoch 14/30\n",
            "188/188 [==============================] - 8s 41ms/step - loss: 0.1707 - accuracy: 0.9354 - val_loss: 0.2125 - val_accuracy: 0.9231\n",
            "Epoch 15/30\n",
            "188/188 [==============================] - 8s 41ms/step - loss: 0.1630 - accuracy: 0.9394 - val_loss: 0.1926 - val_accuracy: 0.9312\n",
            "Epoch 16/30\n",
            "188/188 [==============================] - 8s 41ms/step - loss: 0.1581 - accuracy: 0.9422 - val_loss: 0.2070 - val_accuracy: 0.9277\n",
            "Epoch 17/30\n",
            "188/188 [==============================] - 8s 41ms/step - loss: 0.1539 - accuracy: 0.9429 - val_loss: 0.1962 - val_accuracy: 0.9308\n",
            "Epoch 18/30\n",
            "188/188 [==============================] - 8s 41ms/step - loss: 0.1446 - accuracy: 0.9469 - val_loss: 0.1863 - val_accuracy: 0.9352\n",
            "Epoch 19/30\n",
            "188/188 [==============================] - 8s 41ms/step - loss: 0.1391 - accuracy: 0.9476 - val_loss: 0.2805 - val_accuracy: 0.9066\n",
            "Epoch 20/30\n",
            "188/188 [==============================] - 8s 41ms/step - loss: 0.1355 - accuracy: 0.9496 - val_loss: 0.2504 - val_accuracy: 0.9178\n",
            "Epoch 21/30\n",
            "188/188 [==============================] - 8s 41ms/step - loss: 0.1318 - accuracy: 0.9505 - val_loss: 0.1925 - val_accuracy: 0.9398\n",
            "Epoch 22/30\n",
            "188/188 [==============================] - 8s 41ms/step - loss: 0.1298 - accuracy: 0.9511 - val_loss: 0.1900 - val_accuracy: 0.9364\n",
            "Epoch 23/30\n",
            "188/188 [==============================] - 8s 41ms/step - loss: 0.1132 - accuracy: 0.9579 - val_loss: 0.1882 - val_accuracy: 0.9396\n",
            "Epoch 24/30\n",
            "188/188 [==============================] - 8s 41ms/step - loss: 0.1129 - accuracy: 0.9588 - val_loss: 0.1883 - val_accuracy: 0.9382\n",
            "Epoch 25/30\n",
            "188/188 [==============================] - 8s 41ms/step - loss: 0.1110 - accuracy: 0.9588 - val_loss: 0.2141 - val_accuracy: 0.9356\n",
            "Epoch 26/30\n",
            "188/188 [==============================] - 8s 41ms/step - loss: 0.1080 - accuracy: 0.9580 - val_loss: 0.1912 - val_accuracy: 0.9351\n",
            "Epoch 27/30\n",
            "188/188 [==============================] - 8s 41ms/step - loss: 0.1045 - accuracy: 0.9616 - val_loss: 0.2092 - val_accuracy: 0.9386\n",
            "Epoch 28/30\n",
            "188/188 [==============================] - 8s 41ms/step - loss: 0.1057 - accuracy: 0.9624 - val_loss: 0.2054 - val_accuracy: 0.9390\n",
            "Epoch 29/30\n",
            "188/188 [==============================] - 8s 41ms/step - loss: 0.1002 - accuracy: 0.9620 - val_loss: 0.1959 - val_accuracy: 0.9382\n",
            "Epoch 30/30\n",
            "188/188 [==============================] - 8s 42ms/step - loss: 0.0922 - accuracy: 0.9643 - val_loss: 0.1999 - val_accuracy: 0.9421\n"
          ],
          "name": "stdout"
        },
        {
          "output_type": "execute_result",
          "data": {
            "text/plain": [
              "<tensorflow.python.keras.callbacks.History at 0x7f5ac5f28588>"
            ]
          },
          "metadata": {
            "tags": []
          },
          "execution_count": 12
        }
      ]
    },
    {
      "cell_type": "markdown",
      "metadata": {
        "id": "Xa56AceeRX7D"
      },
      "source": [
        "Evaluate Best Model for Fashion MNIST Dataset"
      ]
    },
    {
      "cell_type": "code",
      "metadata": {
        "id": "2T8jNUi7RZMc"
      },
      "source": [
        "# # Load the weights with the best validation accuracy\n",
        "# model_1.load_weights('model.weights.best.hdf5')"
      ],
      "execution_count": null,
      "outputs": []
    },
    {
      "cell_type": "code",
      "metadata": {
        "colab": {
          "base_uri": "https://localhost:8080/"
        },
        "id": "aO4K93H_RazR",
        "outputId": "71cd3139-7d8f-4e6d-e183-ce5d0e998a49"
      },
      "source": [
        "# Evaluate the model on test set\n",
        "score = model_1.evaluate(x_test_1, y_test_1, verbose=0)\n",
        "\n",
        "# Print test accuracy\n",
        "print('\\n', 'Test accuracy:', score[1])"
      ],
      "execution_count": null,
      "outputs": [
        {
          "output_type": "stream",
          "text": [
            "\n",
            " Test accuracy: 0.9376999735832214\n"
          ],
          "name": "stdout"
        }
      ]
    },
    {
      "cell_type": "code",
      "metadata": {
        "colab": {
          "base_uri": "https://localhost:8080/"
        },
        "id": "IoLeLzab1wFv",
        "outputId": "1749f8ba-d76d-4bfe-e8d1-a0cccaece30a"
      },
      "source": [
        "y_hat_1 = model_1.predict(x_test_1)\n",
        "pred_values_1 = []\n",
        "class_names = range(10)\n",
        "for i in range(10000):\n",
        "  pred_values_1.append(class_names[y_hat_1[i].argmax()])\n",
        "\n",
        "pred_values_1 = np.array(pred_values_1)\n",
        "print(classification_report(y_test, pred_values_1, target_names=fashion_mnist_labels))"
      ],
      "execution_count": null,
      "outputs": [
        {
          "output_type": "stream",
          "text": [
            "              precision    recall  f1-score   support\n",
            "\n",
            " T-shirt/top       0.89      0.89      0.89      1000\n",
            "     Trouser       0.99      0.99      0.99      1000\n",
            "    Pullover       0.93      0.90      0.92      1000\n",
            "       Dress       0.94      0.95      0.94      1000\n",
            "        Coat       0.87      0.94      0.91      1000\n",
            "      Sandal       0.98      0.99      0.99      1000\n",
            "       Shirt       0.84      0.79      0.81      1000\n",
            "     Sneaker       0.97      0.97      0.97      1000\n",
            "         Bag       0.98      0.99      0.99      1000\n",
            "  Ankle boot       0.97      0.97      0.97      1000\n",
            "\n",
            "    accuracy                           0.94     10000\n",
            "   macro avg       0.94      0.94      0.94     10000\n",
            "weighted avg       0.94      0.94      0.94     10000\n",
            "\n"
          ],
          "name": "stdout"
        }
      ]
    },
    {
      "cell_type": "code",
      "metadata": {
        "colab": {
          "base_uri": "https://localhost:8080/",
          "height": 485
        },
        "id": "1aOoJwloUvKW",
        "outputId": "8ecb43ca-47df-4485-fe21-b30169d2f91f"
      },
      "source": [
        "y_hat_1 = model_1.predict(x_test_1)\n",
        "\n",
        "# Plot a random sample of 10 test images, their predicted labels and ground truth\n",
        "figure = plt.figure(figsize=(20, 8))\n",
        "for i, index in enumerate(np.random.choice(x_test.shape[0], size=15, replace=False)):\n",
        "    ax = figure.add_subplot(3, 5, i + 1, xticks=[], yticks=[])\n",
        "    # display each image\n",
        "    ax.imshow(np.squeeze(x_test[index]), cmap=\"gray\")\n",
        "    predict_index = np.argmax(y_hat_1[index])\n",
        "    true_index = np.argmax(y_test[index])\n",
        "    # set the title for images\n",
        "    ax.set_title(\"{} ({})\".format(fashion_mnist_labels[predict_index], \n",
        "                                  fashion_mnist_labels[true_index]),\n",
        "                                  color=(\"green\" if predict_index == true_index else \"red\"))"
      ],
      "execution_count": null,
      "outputs": [
        {
          "output_type": "display_data",
          "data": {
            "image/png": "[encoded data removed]",
            "text/plain": [
              "<Figure size 1440x576 with 15 Axes>"
            ]
          },
          "metadata": {
            "tags": []
          }
        }
      ]
    },
    {
      "cell_type": "markdown",
      "metadata": {
        "id": "FF2Z9hhrkjQr"
      },
      "source": [
        "Testing the model for Fashion MNIST dataset with K-fold Cross Validation"
      ]
    },
    {
      "cell_type": "code",
      "metadata": {
        "id": "lq7TSPU0kmWf"
      },
      "source": [
        "def define_previous_model():\n",
        "  model_1 = tf.keras.Sequential()\n",
        "\n",
        "  model_1.add(Conv2D(64, kernel_size=(3, 3), activation='relu', kernel_initializer='he_normal', padding='same', input_shape=(28, 28, 1)))\n",
        "  model_1.add(Conv2D(64, kernel_size=(3, 3), activation='relu',padding='same'))\n",
        "  model_1.add(tf.keras.layers.BatchNormalization())\n",
        "  model_1.add(MaxPooling2D(pool_size=(2, 2)))\n",
        "  model_1.add(Dropout(0.3))\n",
        "\n",
        "  model_1.add(Conv2D(128, kernel_size=(3, 3), activation='relu', kernel_initializer='he_normal', padding='same', input_shape=(28, 28, 1)))\n",
        "  model_1.add(Conv2D(128, kernel_size=(3, 3), padding='same', activation='relu'))\n",
        "  model_1.add(tf.keras.layers.BatchNormalization())\n",
        "  model_1.add(MaxPooling2D(pool_size=(2, 2)))\n",
        "  model_1.add(Dropout(0.3))\n",
        "\n",
        "  model_1.add(Conv2D(128, kernel_size=(3, 3), activation='relu', kernel_initializer='he_normal', padding='same', input_shape=(28, 28, 1)))\n",
        "  model_1.add(Conv2D(128, kernel_size=(3, 3), padding='same', activation='relu'))\n",
        "  model_1.add(tf.keras.layers.BatchNormalization())\n",
        "  model_1.add(MaxPooling2D(pool_size=(2, 2)))\n",
        "  model_1.add(Dropout(0.3))\n",
        "\n",
        "  model_1.add(Flatten())\n",
        "  model_1.add(Dense(1024, activation='relu'))\n",
        "  model_1.add(Dropout(0.3))\n",
        "  model_1.add(Dense(256, activation='relu'))\n",
        "  model_1.add(Dropout(0.3))\n",
        "  model_1.add(Dense(10, activation='softmax'))\n",
        "\n",
        "  model_1.compile(loss='categorical_crossentropy', optimizer='adam', metrics=['accuracy'])\n",
        "\n",
        "  return model_1"
      ],
      "execution_count": null,
      "outputs": []
    },
    {
      "cell_type": "code",
      "metadata": {
        "id": "cXUpoqrauocL"
      },
      "source": [
        "# evaluate a model using k-fold cross-validation\n",
        "def evaluate_previous_model(dataX, dataY, n_folds=5):\n",
        "\tscores, histories = list(), list()\n",
        "\t# prepare cross validation\n",
        "\tkfold = KFold(n_folds, shuffle=True, random_state=1)\n",
        "\t# enumerate splits\n",
        "\tfor train_ix, test_ix in kfold.split(dataX):\n",
        "\t\tmodel = define_previous_model()\n",
        "\t\t# select rows for train and test\n",
        "\t\ttrainX, trainY, testX, testY = dataX[train_ix], dataY[train_ix], dataX[test_ix], dataY[test_ix]\n",
        "\t\thistory = model.fit(trainX, trainY, epochs=10, batch_size=32, validation_data=(testX, testY), verbose=0)\n",
        "\t\t_, acc = model.evaluate(testX, testY, verbose=0)\n",
        "\t\tprint('> %.3f' % (acc * 100.0))\n",
        "\t\tscores.append(acc)\n",
        "\t\thistories.append(history)\n",
        "\treturn scores, histories"
      ],
      "execution_count": null,
      "outputs": []
    },
    {
      "cell_type": "code",
      "metadata": {
        "id": "YsdrX_uy5ZGK"
      },
      "source": [
        "def summarize_performance(scores):\n",
        "\tprint('Accuracy: mean=%.3f std=%.3f, n=%d' % (np.mean(scores)*100, np.std(scores)*100, len(scores)))\n",
        "\tpyplot.boxplot(scores)\n",
        "\tpyplot.show()"
      ],
      "execution_count": null,
      "outputs": []
    },
    {
      "cell_type": "code",
      "metadata": {
        "id": "MOZ8vM815ZrA"
      },
      "source": [
        "# plot diagnostic learning curves\n",
        "def summarize_diagnostics(histories):\n",
        "\tfor i in range(len(histories)):\n",
        "\t\tpyplot.subplot(211)\n",
        "\t\tpyplot.title('Classification Accuracy')\n",
        "\t\tpyplot.plot(histories[i].history['accuracy'], color='blue', label='train')\n",
        "\t\tpyplot.plot(histories[i].history['val_accuracy'], color='orange', label='test')\n",
        "\tpyplot.show()"
      ],
      "execution_count": null,
      "outputs": []
    },
    {
      "cell_type": "code",
      "metadata": {
        "colab": {
          "base_uri": "https://localhost:8080/"
        },
        "id": "qsZdCAqzuyBa",
        "outputId": "c65053c1-3621-4248-cec7-8a07eefd18cb"
      },
      "source": [
        "# evaluate model\n",
        "scores_previous, histories_previous = evaluate_previous_model(x_train_1, y_train_1)"
      ],
      "execution_count": null,
      "outputs": [
        {
          "output_type": "stream",
          "text": [
            "> 92.167\n"
          ],
          "name": "stdout"
        }
      ]
    },
    {
      "cell_type": "code",
      "metadata": {
        "id": "PB37159s69ca",
        "colab": {
          "base_uri": "https://localhost:8080/",
          "height": 284
        },
        "outputId": "da8d10b6-e5ce-44e5-a159-47329382a3ff"
      },
      "source": [
        "summarize_performance(scores_previous)"
      ],
      "execution_count": null,
      "outputs": [
        {
          "output_type": "stream",
          "text": [
            "Accuracy: mean=92.542 std=0.291, n=5\n"
          ],
          "name": "stdout"
        },
        {
          "output_type": "display_data",
          "data": {
            "image/png": "[encoded data removed]",
            "text/plain": [
              "<Figure size 432x288 with 1 Axes>"
            ]
          },
          "metadata": {
            "tags": [],
            "needs_background": "light"
          }
        }
      ]
    },
    {
      "cell_type": "code",
      "metadata": {
        "id": "S54Xyya-7BJs",
        "colab": {
          "base_uri": "https://localhost:8080/",
          "height": 217
        },
        "outputId": "653ed076-5a26-480a-b71e-0d98302a8283"
      },
      "source": [
        "summarize_diagnostics(histories_previous)"
      ],
      "execution_count": null,
      "outputs": [
        {
          "output_type": "stream",
          "text": [
            "/usr/local/lib/python3.6/dist-packages/ipykernel_launcher.py:4: MatplotlibDeprecationWarning: Adding an axes using the same arguments as a previous axes currently reuses the earlier instance.  In a future version, a new instance will always be created and returned.  Meanwhile, this warning can be suppressed, and the future behavior ensured, by passing a unique label to each axes instance.\n",
            "  after removing the cwd from sys.path.\n"
          ],
          "name": "stderr"
        },
        {
          "output_type": "display_data",
          "data": {
            "image/png": "[encoded data removed]",
            "text/plain": [
              "<Figure size 432x288 with 1 Axes>"
            ]
          },
          "metadata": {
            "tags": [],
            "needs_background": "light"
          }
        }
      ]
    },
    {
      "cell_type": "markdown",
      "metadata": {
        "id": "mQLTR7ea__TF"
      },
      "source": [
        "Sobel Edge Detector"
      ]
    },
    {
      "cell_type": "code",
      "metadata": {
        "colab": {
          "base_uri": "https://localhost:8080/"
        },
        "id": "DyYAR_fyA6uz",
        "outputId": "153b515f-2dd8-473e-eed1-8ccf7e8572ab"
      },
      "source": [
        "# Initialize Edge Detectors\n",
        "sobelX = np.divide(np.array([[-1, 0, 1], [-2, 0, 2], [-1, 0, 1]]), 8)\n",
        "sobelX"
      ],
      "execution_count": null,
      "outputs": [
        {
          "output_type": "execute_result",
          "data": {
            "text/plain": [
              "array([[-0.125,  0.   ,  0.125],\n",
              "       [-0.25 ,  0.   ,  0.25 ],\n",
              "       [-0.125,  0.   ,  0.125]])"
            ]
          },
          "metadata": {
            "tags": []
          },
          "execution_count": 17
        }
      ]
    },
    {
      "cell_type": "code",
      "metadata": {
        "colab": {
          "base_uri": "https://localhost:8080/"
        },
        "id": "IEeiwQZ4A7Qo",
        "outputId": "7dd22c89-9c4a-4228-a96c-ab0fb80ada28"
      },
      "source": [
        "sobelY = np.divide(np.array([[-1, -2, -1], [0, 0, 0], [1, 2, 1]]), 8)\n",
        "sobelY"
      ],
      "execution_count": null,
      "outputs": [
        {
          "output_type": "execute_result",
          "data": {
            "text/plain": [
              "array([[-0.125, -0.25 , -0.125],\n",
              "       [ 0.   ,  0.   ,  0.   ],\n",
              "       [ 0.125,  0.25 ,  0.125]])"
            ]
          },
          "metadata": {
            "tags": []
          },
          "execution_count": 18
        }
      ]
    },
    {
      "cell_type": "code",
      "metadata": {
        "id": "STStQx0zEWd-"
      },
      "source": [
        "def sobelFilter(img, sobelX, sobelY):\n",
        "  imgSobelX = scipy.signal.convolve2d(img ,sobelX,'same')\n",
        "  imgSobelY = scipy.signal.convolve2d(img,sobelY,'same')\n",
        "  magnitude_gradient = np.sqrt(np.square(imgSobelX) + np.square(imgSobelY))\n",
        "  magnitude_gradient_clean = magnitude_gradient > 1*magnitude_gradient.mean()\n",
        "\n",
        "  im = magnitude_gradient_clean\n",
        "  m, n = im.shape; \n",
        "  xs = np.arange(1,n-1); \n",
        "  ys = np.arange(1,m-1);\n",
        "  xpeaks = (im[ys][:,xs-1] <= im[ys][:,xs]) & (im[ys][:,xs] > im[ys][:,xs+1])\n",
        "  ypeaks = (im[ys-1][:,xs] <= im[ys][:,xs]) & (im[ys][:,xs] > im[ys+1][:,xs])\n",
        "  im = im[ys][:,xs].astype(bool) & ( xpeaks | ypeaks )\n",
        "\n",
        "  return im"
      ],
      "execution_count": null,
      "outputs": []
    },
    {
      "cell_type": "code",
      "metadata": {
        "id": "Re8ngoYPEaWW"
      },
      "source": [
        "x_train_filtered = []\n",
        "\n",
        "for img in x_train:\n",
        "  x_filtered = sobelFilter(img, sobelX, sobelY)\n",
        "  x_train_filtered.append(x_filtered)\n",
        "  "
      ],
      "execution_count": null,
      "outputs": []
    },
    {
      "cell_type": "code",
      "metadata": {
        "id": "LCHDuZK0HuEX",
        "colab": {
          "base_uri": "https://localhost:8080/"
        },
        "outputId": "994db976-2d77-4b1e-d6c8-98e96768bcb3"
      },
      "source": [
        "x_train_filtered = np.array(x_train_filtered)\n",
        "x_train_filtered.shape"
      ],
      "execution_count": null,
      "outputs": [
        {
          "output_type": "execute_result",
          "data": {
            "text/plain": [
              "(60000, 26, 26)"
            ]
          },
          "metadata": {
            "tags": []
          },
          "execution_count": 21
        }
      ]
    },
    {
      "cell_type": "code",
      "metadata": {
        "id": "sZRRWMUgKUoz",
        "colab": {
          "base_uri": "https://localhost:8080/",
          "height": 282
        },
        "outputId": "a9e74a9e-4c6a-4a4d-c051-273b85f07829"
      },
      "source": [
        "plt.imshow(x_train_filtered[0, :, :], cmap=\"gray\")"
      ],
      "execution_count": null,
      "outputs": [
        {
          "output_type": "execute_result",
          "data": {
            "text/plain": [
              "<matplotlib.image.AxesImage at 0x7f5ace5d0be0>"
            ]
          },
          "metadata": {
            "tags": []
          },
          "execution_count": 22
        },
        {
          "output_type": "display_data",
          "data": {
            "image/png": "[encoded data removed]",
            "text/plain": [
              "<Figure size 432x288 with 1 Axes>"
            ]
          },
          "metadata": {
            "tags": [],
            "needs_background": "light"
          }
        }
      ]
    },
    {
      "cell_type": "code",
      "metadata": {
        "id": "hKvoqKfsHXcY",
        "colab": {
          "base_uri": "https://localhost:8080/",
          "height": 1138
        },
        "outputId": "2ee5a7de-5f09-422e-92a9-c27e2aadf632"
      },
      "source": [
        "f, axes = plt.subplots(10,5,figsize=(5*2,10*2))\n",
        "plt.axis('off')\n",
        "for c in range(10):\n",
        "    class_examples = x_train_filtered[(y_train==c).ravel()]\n",
        "    for i in range(5):\n",
        "        ax = axes[c,i]\n",
        "        ax.imshow(class_examples[i].squeeze(),cmap='gray')\n",
        "        ax.set_xticks([]); ax.set_yticks([])\n",
        "        ax.set_title('Class: {}'.format(fashion_mnist_labels[c]))"
      ],
      "execution_count": null,
      "outputs": [
        {
          "output_type": "display_data",
          "data": {
            "image/png": "[encoded data removed]",
            "text/plain": [
              "<Figure size 720x1440 with 50 Axes>"
            ]
          },
          "metadata": {
            "tags": []
          }
        }
      ]
    },
    {
      "cell_type": "code",
      "metadata": {
        "id": "4lXLkJiaLkSk"
      },
      "source": [
        "x_test_filtered = []\n",
        "\n",
        "for img in x_test:\n",
        "  x_test_img = sobelFilter(img, sobelX, sobelY)\n",
        "  x_test_filtered.append(x_test_img)"
      ],
      "execution_count": null,
      "outputs": []
    },
    {
      "cell_type": "code",
      "metadata": {
        "id": "7__7rOM_MRY4",
        "colab": {
          "base_uri": "https://localhost:8080/"
        },
        "outputId": "fee086d1-acb6-4981-c32e-3821fa2de762"
      },
      "source": [
        "x_test_filtered = np.array(x_test_filtered)\n",
        "x_test_filtered.shape"
      ],
      "execution_count": null,
      "outputs": [
        {
          "output_type": "execute_result",
          "data": {
            "text/plain": [
              "(10000, 26, 26)"
            ]
          },
          "metadata": {
            "tags": []
          },
          "execution_count": 25
        }
      ]
    },
    {
      "cell_type": "code",
      "metadata": {
        "colab": {
          "base_uri": "https://localhost:8080/"
        },
        "id": "_QaPMz2j29V3",
        "outputId": "57a8e47c-1164-400e-bdb3-d8d0a2cbcb7e"
      },
      "source": [
        "x_train_filtered.shape"
      ],
      "execution_count": null,
      "outputs": [
        {
          "output_type": "execute_result",
          "data": {
            "text/plain": [
              "(60000, 26, 26)"
            ]
          },
          "metadata": {
            "tags": []
          },
          "execution_count": 36
        }
      ]
    },
    {
      "cell_type": "code",
      "metadata": {
        "id": "J28eRJ0R2tAi"
      },
      "source": [
        "edgemap_test = np.empty((10000,28,28), dtype=float, order='C')\n",
        "edgemap_train = np.empty((60000,28,28), dtype=float, order='C')\n",
        "\n",
        "i = 0\n",
        "for img in x_train_filtered:\n",
        "  img = np.pad(img,1)\n",
        "  img = img.reshape(28,28)\n",
        "  edgemap_train[i,:,:] = img[:,:]\n",
        "  i = i + 1\n",
        "\n",
        "i = 0\n",
        "for img in x_test_filtered:\n",
        "  img = np.pad(img,1)\n",
        "  img = img.reshape(28,28)\n",
        "  edgemap_test[i,:,:] = img[:,:]\n",
        "  i = i + 1\n"
      ],
      "execution_count": null,
      "outputs": []
    },
    {
      "cell_type": "code",
      "metadata": {
        "colab": {
          "base_uri": "https://localhost:8080/"
        },
        "id": "XEtbIfA83ctv",
        "outputId": "59617828-927d-468a-c46d-9f909c0724c9"
      },
      "source": [
        "edgemap_test.shape\n",
        "edgemap_train.shape"
      ],
      "execution_count": null,
      "outputs": [
        {
          "output_type": "execute_result",
          "data": {
            "text/plain": [
              "(60000, 28, 28)"
            ]
          },
          "metadata": {
            "tags": []
          },
          "execution_count": 40
        }
      ]
    },
    {
      "cell_type": "code",
      "metadata": {
        "id": "3vZ0HCOWPP8S",
        "colab": {
          "base_uri": "https://localhost:8080/"
        },
        "outputId": "ba9a2228-989c-441d-e673-f8f60b66989e"
      },
      "source": [
        "# break into training and validation sets\n",
        "(x_train_2, x_valid_2) = edgemap_train[5000:], edgemap_train[:5000] \n",
        "(y_train_2, y_valid_2) = y_train[5000:], y_train[:5000]\n",
        "\n",
        "# reshape the data\n",
        "w, h = 28, 28\n",
        "x_train_2 = x_train_2.reshape(x_train_2.shape[0], w, h, 1)\n",
        "x_valid_2 = x_valid_2.reshape(x_valid_2.shape[0], w, h, 1)\n",
        "x_test_2 = edgemap_test.reshape(edgemap_test.shape[0], w, h, 1)\n",
        "\n",
        "y_train_2 = tf.keras.utils.to_categorical(y_train_2, 10)\n",
        "y_valid_2 = tf.keras.utils.to_categorical(y_valid_2, 10)\n",
        "y_test_2 = tf.keras.utils.to_categorical(y_test, 10)"
      ],
      "execution_count": null,
      "outputs": [
        {
          "output_type": "stream",
          "text": [
            "x_train shape: (55000, 28, 28, 1) y_train shape: (55000, 10)\n",
            "55000 train set\n",
            "5000 validation set\n",
            "10000 test set\n"
          ],
          "name": "stdout"
        }
      ]
    },
    {
      "cell_type": "markdown",
      "metadata": {
        "id": "P-yh4q3hM3_V"
      },
      "source": [
        "Training the Data"
      ]
    },
    {
      "cell_type": "code",
      "metadata": {
        "colab": {
          "base_uri": "https://localhost:8080/"
        },
        "id": "d8OZ7ae_z3JY",
        "outputId": "928cf041-29f6-4e2c-fd02-6445f5ca60f5"
      },
      "source": [
        "model_2 = tf.keras.Sequential()\n",
        "\n",
        "\n",
        "model_2.add(Conv2D(64, kernel_size=(3, 3), activation='relu', kernel_initializer='he_normal', padding='same', input_shape=(28, 28, 1)))\n",
        "model_2.add(Conv2D(64, kernel_size=(3, 3), activation='relu',padding='same'))\n",
        "model_2.add(tf.keras.layers.BatchNormalization())\n",
        "model_2.add(MaxPooling2D(pool_size=(2, 2)))\n",
        "model_2.add(Dropout(0.3))\n",
        "\n",
        "model_2.add(Conv2D(128, kernel_size=(3, 3), activation='relu', kernel_initializer='he_normal', padding='same', input_shape=(28, 28, 1)))\n",
        "model_2.add(Conv2D(128, kernel_size=(3, 3), padding='same', activation='relu'))\n",
        "model_2.add(tf.keras.layers.BatchNormalization())\n",
        "model_2.add(MaxPooling2D(pool_size=(2, 2)))\n",
        "model_2.add(Dropout(0.3))\n",
        "\n",
        "model_2.add(Conv2D(128, kernel_size=(3, 3), activation='relu', kernel_initializer='he_normal', padding='same', input_shape=(28, 28, 1)))\n",
        "model_2.add(Conv2D(128, kernel_size=(3, 3), padding='same', activation='relu'))\n",
        "model_2.add(tf.keras.layers.BatchNormalization())\n",
        "model_2.add(MaxPooling2D(pool_size=(2, 2)))\n",
        "model_2.add(Dropout(0.3))\n",
        "\n",
        "model_2.add(Flatten())\n",
        "model_2.add(Dense(1024, activation='relu'))\n",
        "model_2.add(Dropout(0.3))\n",
        "model_2.add(Dense(256, activation='relu'))\n",
        "model_2.add(Dropout(0.3))\n",
        "model_2.add(Dense(10, activation='softmax'))\n",
        "\n",
        "model_2.summary()"
      ],
      "execution_count": null,
      "outputs": [
        {
          "output_type": "stream",
          "text": [
            "Model: \"sequential_1\"\n",
            "_________________________________________________________________\n",
            "Layer (type)                 Output Shape              Param #   \n",
            "=================================================================\n",
            "conv2d_6 (Conv2D)            (None, 28, 28, 64)        640       \n",
            "_________________________________________________________________\n",
            "conv2d_7 (Conv2D)            (None, 28, 28, 64)        36928     \n",
            "_________________________________________________________________\n",
            "batch_normalization_3 (Batch (None, 28, 28, 64)        256       \n",
            "_________________________________________________________________\n",
            "max_pooling2d_3 (MaxPooling2 (None, 14, 14, 64)        0         \n",
            "_________________________________________________________________\n",
            "dropout_5 (Dropout)          (None, 14, 14, 64)        0         \n",
            "_________________________________________________________________\n",
            "conv2d_8 (Conv2D)            (None, 14, 14, 128)       73856     \n",
            "_________________________________________________________________\n",
            "conv2d_9 (Conv2D)            (None, 14, 14, 128)       147584    \n",
            "_________________________________________________________________\n",
            "batch_normalization_4 (Batch (None, 14, 14, 128)       512       \n",
            "_________________________________________________________________\n",
            "max_pooling2d_4 (MaxPooling2 (None, 7, 7, 128)         0         \n",
            "_________________________________________________________________\n",
            "dropout_6 (Dropout)          (None, 7, 7, 128)         0         \n",
            "_________________________________________________________________\n",
            "conv2d_10 (Conv2D)           (None, 7, 7, 128)         147584    \n",
            "_________________________________________________________________\n",
            "conv2d_11 (Conv2D)           (None, 7, 7, 128)         147584    \n",
            "_________________________________________________________________\n",
            "batch_normalization_5 (Batch (None, 7, 7, 128)         512       \n",
            "_________________________________________________________________\n",
            "max_pooling2d_5 (MaxPooling2 (None, 3, 3, 128)         0         \n",
            "_________________________________________________________________\n",
            "dropout_7 (Dropout)          (None, 3, 3, 128)         0         \n",
            "_________________________________________________________________\n",
            "flatten_1 (Flatten)          (None, 1152)              0         \n",
            "_________________________________________________________________\n",
            "dense_3 (Dense)              (None, 1024)              1180672   \n",
            "_________________________________________________________________\n",
            "dropout_8 (Dropout)          (None, 1024)              0         \n",
            "_________________________________________________________________\n",
            "dense_4 (Dense)              (None, 256)               262400    \n",
            "_________________________________________________________________\n",
            "dropout_9 (Dropout)          (None, 256)               0         \n",
            "_________________________________________________________________\n",
            "dense_5 (Dense)              (None, 10)                2570      \n",
            "=================================================================\n",
            "Total params: 2,001,098\n",
            "Trainable params: 2,000,458\n",
            "Non-trainable params: 640\n",
            "_________________________________________________________________\n"
          ],
          "name": "stdout"
        }
      ]
    },
    {
      "cell_type": "code",
      "metadata": {
        "id": "p851dnp7ErWm"
      },
      "source": [
        "model_2.compile(loss='categorical_crossentropy',\n",
        "             optimizer='adam',\n",
        "             metrics=['accuracy'])"
      ],
      "execution_count": null,
      "outputs": []
    },
    {
      "cell_type": "code",
      "metadata": {
        "id": "maWVrY3XM5J3",
        "colab": {
          "base_uri": "https://localhost:8080/"
        },
        "outputId": "bd55e50c-a554-44e0-efe2-6cefc6b479e4"
      },
      "source": [
        "from keras.callbacks import ModelCheckpoint\n",
        "\n",
        "checkpointer = ModelCheckpoint(filepath='model.weights.best.hdf5', verbose = 1, save_best_only=True)\n",
        "model_2.fit(x_train_2,\n",
        "         y_train_2,\n",
        "         batch_size=64,\n",
        "         epochs=30,\n",
        "         validation_data=(x_valid_2, y_valid_2),\n",
        "         callbacks=[checkpointer])"
      ],
      "execution_count": null,
      "outputs": [
        {
          "output_type": "stream",
          "text": [
            "Epoch 1/30\n",
            "860/860 [==============================] - 11s 12ms/step - loss: 0.2877 - accuracy: 0.8911 - val_loss: 0.2995 - val_accuracy: 0.8898\n",
            "\n",
            "Epoch 00001: val_loss improved from inf to 0.29949, saving model to model.weights.best.hdf5\n",
            "Epoch 2/30\n",
            "860/860 [==============================] - 11s 12ms/step - loss: 0.2766 - accuracy: 0.8945 - val_loss: 0.3182 - val_accuracy: 0.8912\n",
            "\n",
            "Epoch 00002: val_loss did not improve from 0.29949\n",
            "Epoch 3/30\n",
            "860/860 [==============================] - 11s 12ms/step - loss: 0.2683 - accuracy: 0.8985 - val_loss: 0.3182 - val_accuracy: 0.8876\n",
            "\n",
            "Epoch 00003: val_loss did not improve from 0.29949\n",
            "Epoch 4/30\n",
            "860/860 [==============================] - 11s 13ms/step - loss: 0.2622 - accuracy: 0.9000 - val_loss: 0.3113 - val_accuracy: 0.8924\n",
            "\n",
            "Epoch 00004: val_loss did not improve from 0.29949\n",
            "Epoch 5/30\n",
            "860/860 [==============================] - 11s 12ms/step - loss: 0.2530 - accuracy: 0.9031 - val_loss: 0.3179 - val_accuracy: 0.8888\n",
            "\n",
            "Epoch 00005: val_loss did not improve from 0.29949\n",
            "Epoch 6/30\n",
            "860/860 [==============================] - 11s 12ms/step - loss: 0.2420 - accuracy: 0.9074 - val_loss: 0.3099 - val_accuracy: 0.8884\n",
            "\n",
            "Epoch 00006: val_loss did not improve from 0.29949\n",
            "Epoch 7/30\n",
            "860/860 [==============================] - 11s 12ms/step - loss: 0.2342 - accuracy: 0.9097 - val_loss: 0.3367 - val_accuracy: 0.8888\n",
            "\n",
            "Epoch 00007: val_loss did not improve from 0.29949\n",
            "Epoch 8/30\n",
            "860/860 [==============================] - 11s 13ms/step - loss: 0.2289 - accuracy: 0.9125 - val_loss: 0.3235 - val_accuracy: 0.8922\n",
            "\n",
            "Epoch 00008: val_loss did not improve from 0.29949\n",
            "Epoch 9/30\n",
            "860/860 [==============================] - 11s 12ms/step - loss: 0.2134 - accuracy: 0.9191 - val_loss: 0.3193 - val_accuracy: 0.8854\n",
            "\n",
            "Epoch 00009: val_loss did not improve from 0.29949\n",
            "Epoch 10/30\n",
            "860/860 [==============================] - 11s 12ms/step - loss: 0.2121 - accuracy: 0.9190 - val_loss: 0.3477 - val_accuracy: 0.8902\n",
            "\n",
            "Epoch 00010: val_loss did not improve from 0.29949\n",
            "Epoch 11/30\n",
            "860/860 [==============================] - 11s 12ms/step - loss: 0.2088 - accuracy: 0.9211 - val_loss: 0.3474 - val_accuracy: 0.8902\n",
            "\n",
            "Epoch 00011: val_loss did not improve from 0.29949\n",
            "Epoch 12/30\n",
            "860/860 [==============================] - 11s 12ms/step - loss: 0.2017 - accuracy: 0.9235 - val_loss: 0.3449 - val_accuracy: 0.8902\n",
            "\n",
            "Epoch 00012: val_loss did not improve from 0.29949\n",
            "Epoch 13/30\n",
            "860/860 [==============================] - 11s 12ms/step - loss: 0.1902 - accuracy: 0.9276 - val_loss: 0.3356 - val_accuracy: 0.8950\n",
            "\n",
            "Epoch 00013: val_loss did not improve from 0.29949\n",
            "Epoch 14/30\n",
            "860/860 [==============================] - 11s 12ms/step - loss: 0.1842 - accuracy: 0.9309 - val_loss: 0.3453 - val_accuracy: 0.8918\n",
            "\n",
            "Epoch 00014: val_loss did not improve from 0.29949\n",
            "Epoch 15/30\n",
            "860/860 [==============================] - 11s 12ms/step - loss: 0.1776 - accuracy: 0.9327 - val_loss: 0.3608 - val_accuracy: 0.8952\n",
            "\n",
            "Epoch 00015: val_loss did not improve from 0.29949\n",
            "Epoch 16/30\n",
            "860/860 [==============================] - 11s 12ms/step - loss: 0.1763 - accuracy: 0.9337 - val_loss: 0.3709 - val_accuracy: 0.8870\n",
            "\n",
            "Epoch 00016: val_loss did not improve from 0.29949\n",
            "Epoch 17/30\n",
            "860/860 [==============================] - 11s 12ms/step - loss: 0.1694 - accuracy: 0.9361 - val_loss: 0.3819 - val_accuracy: 0.8924\n",
            "\n",
            "Epoch 00017: val_loss did not improve from 0.29949\n",
            "Epoch 18/30\n",
            "860/860 [==============================] - 11s 12ms/step - loss: 0.1647 - accuracy: 0.9383 - val_loss: 0.3730 - val_accuracy: 0.8942\n",
            "\n",
            "Epoch 00018: val_loss did not improve from 0.29949\n",
            "Epoch 19/30\n",
            "860/860 [==============================] - 11s 12ms/step - loss: 0.1625 - accuracy: 0.9396 - val_loss: 0.3660 - val_accuracy: 0.8908\n",
            "\n",
            "Epoch 00019: val_loss did not improve from 0.29949\n",
            "Epoch 20/30\n",
            "860/860 [==============================] - 11s 12ms/step - loss: 0.1569 - accuracy: 0.9401 - val_loss: 0.3942 - val_accuracy: 0.8930\n",
            "\n",
            "Epoch 00020: val_loss did not improve from 0.29949\n",
            "Epoch 21/30\n",
            "860/860 [==============================] - 11s 12ms/step - loss: 0.1509 - accuracy: 0.9430 - val_loss: 0.3918 - val_accuracy: 0.8948\n",
            "\n",
            "Epoch 00021: val_loss did not improve from 0.29949\n",
            "Epoch 22/30\n",
            "860/860 [==============================] - 11s 12ms/step - loss: 0.1522 - accuracy: 0.9428 - val_loss: 0.3956 - val_accuracy: 0.8934\n",
            "\n",
            "Epoch 00022: val_loss did not improve from 0.29949\n",
            "Epoch 23/30\n",
            "860/860 [==============================] - 11s 12ms/step - loss: 0.1424 - accuracy: 0.9458 - val_loss: 0.4015 - val_accuracy: 0.8946\n",
            "\n",
            "Epoch 00023: val_loss did not improve from 0.29949\n",
            "Epoch 24/30\n",
            "860/860 [==============================] - 11s 12ms/step - loss: 0.1398 - accuracy: 0.9478 - val_loss: 0.3693 - val_accuracy: 0.8950\n",
            "\n",
            "Epoch 00024: val_loss did not improve from 0.29949\n",
            "Epoch 25/30\n",
            "860/860 [==============================] - 11s 12ms/step - loss: 0.1350 - accuracy: 0.9500 - val_loss: 0.3944 - val_accuracy: 0.8942\n",
            "\n",
            "Epoch 00025: val_loss did not improve from 0.29949\n",
            "Epoch 26/30\n",
            "860/860 [==============================] - 11s 12ms/step - loss: 0.1337 - accuracy: 0.9498 - val_loss: 0.4358 - val_accuracy: 0.8952\n",
            "\n",
            "Epoch 00026: val_loss did not improve from 0.29949\n",
            "Epoch 27/30\n",
            "860/860 [==============================] - 11s 12ms/step - loss: 0.1293 - accuracy: 0.9517 - val_loss: 0.4405 - val_accuracy: 0.8868\n",
            "\n",
            "Epoch 00027: val_loss did not improve from 0.29949\n",
            "Epoch 28/30\n",
            "860/860 [==============================] - 11s 12ms/step - loss: 0.1281 - accuracy: 0.9525 - val_loss: 0.4039 - val_accuracy: 0.8976\n",
            "\n",
            "Epoch 00028: val_loss did not improve from 0.29949\n",
            "Epoch 29/30\n",
            "860/860 [==============================] - 11s 12ms/step - loss: 0.1256 - accuracy: 0.9531 - val_loss: 0.4217 - val_accuracy: 0.8920\n",
            "\n",
            "Epoch 00029: val_loss did not improve from 0.29949\n",
            "Epoch 30/30\n",
            "860/860 [==============================] - 11s 12ms/step - loss: 0.1234 - accuracy: 0.9548 - val_loss: 0.4112 - val_accuracy: 0.8954\n",
            "\n",
            "Epoch 00030: val_loss did not improve from 0.29949\n"
          ],
          "name": "stdout"
        },
        {
          "output_type": "execute_result",
          "data": {
            "text/plain": [
              "<tensorflow.python.keras.callbacks.History at 0x7f5ac06d46a0>"
            ]
          },
          "metadata": {
            "tags": []
          },
          "execution_count": 47
        }
      ]
    },
    {
      "cell_type": "code",
      "metadata": {
        "colab": {
          "base_uri": "https://localhost:8080/"
        },
        "id": "1tYNTWD47on5",
        "outputId": "1ce70739-8282-48d2-8058-e257b1669fd6"
      },
      "source": [
        "y_hat_2 = model_2.predict(x_test_2)\n",
        "pred_values_2 = []\n",
        "class_names = range(10)\n",
        "for i in range(10000):\n",
        "  pred_values_2.append(class_names[y_hat_2[i].argmax()])\n",
        "\n",
        "pred_values_2 = np.array(pred_values_2)\n",
        "print(classification_report(y_test, pred_values_2, target_names=fashion_mnist_labels))"
      ],
      "execution_count": null,
      "outputs": [
        {
          "output_type": "stream",
          "text": [
            "              precision    recall  f1-score   support\n",
            "\n",
            " T-shirt/top       0.83      0.86      0.84      1000\n",
            "     Trouser       0.99      0.95      0.97      1000\n",
            "    Pullover       0.80      0.80      0.80      1000\n",
            "       Dress       0.88      0.89      0.88      1000\n",
            "        Coat       0.79      0.80      0.79      1000\n",
            "      Sandal       0.97      0.93      0.95      1000\n",
            "       Shirt       0.68      0.66      0.67      1000\n",
            "     Sneaker       0.91      0.95      0.93      1000\n",
            "         Bag       0.98      0.98      0.98      1000\n",
            "  Ankle boot       0.96      0.96      0.96      1000\n",
            "\n",
            "    accuracy                           0.88     10000\n",
            "   macro avg       0.88      0.88      0.88     10000\n",
            "weighted avg       0.88      0.88      0.88     10000\n",
            "\n"
          ],
          "name": "stdout"
        }
      ]
    },
    {
      "cell_type": "code",
      "metadata": {
        "colab": {
          "base_uri": "https://localhost:8080/",
          "height": 485
        },
        "id": "IxOfN_QAAY-h",
        "outputId": "ac851a1e-9f18-4d19-d417-2f22b1e236ba"
      },
      "source": [
        "y_hat_2 = model_2.predict(x_test_2)\n",
        "\n",
        "figure = plt.figure(figsize=(20, 8))\n",
        "for i, index in enumerate(np.random.choice(x_test.shape[0], size=15, replace=False)):\n",
        "    ax = figure.add_subplot(3, 5, i + 1, xticks=[], yticks=[])\n",
        "    ax.imshow(np.squeeze(x_test_2[index]), cmap=\"gray\")\n",
        "    predict_index = np.argmax(y_hat_2[index])\n",
        "    true_index = np.argmax(y_test[index])\n",
        "    ax.set_title(\"{} ({})\".format(fashion_mnist_labels[predict_index], \n",
        "                                  fashion_mnist_labels[true_index]),\n",
        "                                  color=(\"green\" if predict_index == true_index else \"red\"))"
      ],
      "execution_count": null,
      "outputs": [
        {
          "output_type": "display_data",
          "data": {
            "image/png": "[encoded data removed]",
            "text/plain": [
              "<Figure size 1440x576 with 15 Axes>"
            ]
          },
          "metadata": {
            "tags": []
          }
        }
      ]
    },
    {
      "cell_type": "markdown",
      "metadata": {
        "id": "1_K9eHMAAoec"
      },
      "source": [
        "K-Fold Cross Validation on EdgeMaps of Fashion MNIST dataset"
      ]
    },
    {
      "cell_type": "code",
      "metadata": {
        "id": "5mzXcGiFAi49",
        "colab": {
          "base_uri": "https://localhost:8080/"
        },
        "outputId": "c58e9f00-8ed6-49f4-b03c-e882e0b860db"
      },
      "source": [
        "scores_previous, histories_previous = evaluate_previous_model(x_train_2, y_train_2)"
      ],
      "execution_count": null,
      "outputs": [
        {
          "output_type": "stream",
          "text": [
            "> 87.991\n",
            "> 88.173\n",
            "> 87.536\n",
            "> 87.027\n",
            "> 87.564\n"
          ],
          "name": "stdout"
        }
      ]
    },
    {
      "cell_type": "code",
      "metadata": {
        "id": "i19vlGlA5z4h",
        "colab": {
          "base_uri": "https://localhost:8080/",
          "height": 282
        },
        "outputId": "9c0e16a9-4a93-4c85-8487-7dc0cd41b5d6"
      },
      "source": [
        "summarize_performance(scores_previous)"
      ],
      "execution_count": null,
      "outputs": [
        {
          "output_type": "stream",
          "text": [
            "Accuracy: mean=87.658 std=0.399, n=5\n"
          ],
          "name": "stdout"
        },
        {
          "output_type": "display_data",
          "data": {
            "image/png": "[encoded data removed]",
            "text/plain": [
              "<Figure size 432x288 with 1 Axes>"
            ]
          },
          "metadata": {
            "tags": [],
            "needs_background": "light"
          }
        }
      ]
    },
    {
      "cell_type": "code",
      "metadata": {
        "id": "l86bxWCy51Zm",
        "colab": {
          "base_uri": "https://localhost:8080/",
          "height": 217
        },
        "outputId": "78d7c256-f6e9-4eb9-aaf5-764b686dc24b"
      },
      "source": [
        "summarize_diagnostics(histories_previous)"
      ],
      "execution_count": null,
      "outputs": [
        {
          "output_type": "stream",
          "text": [
            "/usr/local/lib/python3.6/dist-packages/ipykernel_launcher.py:4: MatplotlibDeprecationWarning: Adding an axes using the same arguments as a previous axes currently reuses the earlier instance.  In a future version, a new instance will always be created and returned.  Meanwhile, this warning can be suppressed, and the future behavior ensured, by passing a unique label to each axes instance.\n",
            "  after removing the cwd from sys.path.\n"
          ],
          "name": "stderr"
        },
        {
          "output_type": "display_data",
          "data": {
            "image/png": "[encoded data removed]",
            "text/plain": [
              "<Figure size 432x288 with 1 Axes>"
            ]
          },
          "metadata": {
            "tags": [],
            "needs_background": "light"
          }
        }
      ]
    },
    {
      "cell_type": "markdown",
      "metadata": {
        "id": "gTJjDKbMNJ_p"
      },
      "source": [
        "Determine Best Model Accuracy for EdgeMaps of Fashion MNIST dataset"
      ]
    },
    {
      "cell_type": "code",
      "metadata": {
        "id": "R8rF83_kMjQf"
      },
      "source": [
        "model_2.load_weights('model.weights.best.hdf5')"
      ],
      "execution_count": null,
      "outputs": []
    },
    {
      "cell_type": "code",
      "metadata": {
        "colab": {
          "base_uri": "https://localhost:8080/"
        },
        "id": "GAlSQeoJNOwY",
        "outputId": "490fc649-b1fc-4447-e775-d1de7f924d30"
      },
      "source": [
        "score = model_2.evaluate(x_test_2, y_test_2, verbose=0)\n",
        "\n",
        "print('\\n', 'Test accuracy:', score[1])"
      ],
      "execution_count": null,
      "outputs": [
        {
          "output_type": "stream",
          "text": [
            "\n",
            " Test accuracy: 0.8781999945640564\n"
          ],
          "name": "stdout"
        }
      ]
    },
    {
      "cell_type": "code",
      "metadata": {
        "colab": {
          "base_uri": "https://localhost:8080/"
        },
        "id": "rtig4D1R1z4R",
        "outputId": "1ef341a7-9631-463b-b21c-77db1179028a"
      },
      "source": [
        "y_hat_2 = model_2.predict(x_test_2)\n",
        "\n",
        "pred_values_2 = []\n",
        "class_names = range(10)\n",
        "for i in range(10000):\n",
        "  pred_values_2.append(class_names[y_hat_2[i].argmax()])\n",
        "\n",
        "pred_values_2 = np.array(pred_values_2)\n",
        "confusion_matrix(y_test, pred_values_2)"
      ],
      "execution_count": null,
      "outputs": [
        {
          "output_type": "stream",
          "text": [
            "WARNING:tensorflow:Model was constructed with shape (None, 28, 28, 1) for input KerasTensor(type_spec=TensorSpec(shape=(None, 28, 28, 1), dtype=tf.float32, name='conv2d_input'), name='conv2d_input', description=\"created by layer 'conv2d_input'\"), but it was called on an input with incompatible shape (None, 26, 26, 1).\n"
          ],
          "name": "stdout"
        },
        {
          "output_type": "execute_result",
          "data": {
            "text/plain": [
              "array([[757,   2,  24,  34,   5,   0, 172,   0,   6,   0],\n",
              "       [  1, 969,   0,  24,   1,   0,   3,   0,   2,   0],\n",
              "       [  3,   0, 783,  14, 108,   0,  91,   0,   1,   0],\n",
              "       [  4,  10,   8, 902,  32,   0,  40,   0,   3,   1],\n",
              "       [  0,   1,  71,  44, 775,   0, 106,   0,   3,   0],\n",
              "       [  0,   0,   0,   0,   0, 976,   0,  17,   1,   6],\n",
              "       [ 73,   5,  87,  39,  65,   0, 717,   0,  14,   0],\n",
              "       [  0,   0,   0,   0,   0,  63,   0, 915,   0,  22],\n",
              "       [  2,   0,   3,   4,   2,   0,   5,   0, 984,   0],\n",
              "       [  0,   0,   0,   0,   0,  17,   1,  32,   2, 948]])"
            ]
          },
          "metadata": {
            "tags": []
          },
          "execution_count": 58
        }
      ]
    },
    {
      "cell_type": "markdown",
      "metadata": {
        "id": "Wt9VGjW86Bhy"
      },
      "source": [
        "Visualize our predictions on the Edgemap dataset"
      ]
    },
    {
      "cell_type": "code",
      "metadata": {
        "colab": {
          "base_uri": "https://localhost:8080/",
          "height": 522
        },
        "id": "oNbdRg0p6Co8",
        "outputId": "88e6f695-3246-4351-e530-da200e290298"
      },
      "source": [
        "y_hat = model_2.predict(x_test_2)\n",
        "\n",
        "figure = plt.figure(figsize=(20, 8))\n",
        "for i, index in enumerate(np.random.choice(x_test.shape[0], size=15, replace=False)):\n",
        "    ax = figure.add_subplot(3, 5, i + 1, xticks=[], yticks=[])\n",
        "    ax.imshow(np.squeeze(x_test_2[index]), cmap=\"gray\")\n",
        "    predict_index = np.argmax(y_hat[index])\n",
        "    true_index = np.argmax(y_test_2[index])\n",
        "    ax.set_title(\"{} ({})\".format(fashion_mnist_labels[predict_index], \n",
        "                                  fashion_mnist_labels[true_index]),\n",
        "                                  color=(\"green\" if predict_index == true_index else \"red\"))"
      ],
      "execution_count": null,
      "outputs": [
        {
          "output_type": "stream",
          "text": [
            "WARNING:tensorflow:Model was constructed with shape (None, 28, 28, 1) for input KerasTensor(type_spec=TensorSpec(shape=(None, 28, 28, 1), dtype=tf.float32, name='conv2d_input'), name='conv2d_input', description=\"created by layer 'conv2d_input'\"), but it was called on an input with incompatible shape (None, 26, 26, 1).\n"
          ],
          "name": "stdout"
        },
        {
          "output_type": "display_data",
          "data": {
            "image/png": "[encoded data removed]",
            "text/plain": [
              "<Figure size 1440x576 with 15 Axes>"
            ]
          },
          "metadata": {
            "tags": []
          }
        }
      ]
    },
    {
      "cell_type": "markdown",
      "metadata": {
        "id": "znLF9xl4OW5Q"
      },
      "source": [
        "Improve Preprocessing of EdgeMap Dataset - add Gaussian Blur"
      ]
    },
    {
      "cell_type": "markdown",
      "metadata": {
        "id": "_ta05RdiUq5r"
      },
      "source": [
        "Upon inspection of edge maps of Sobel-filtered images, we have realized that because our pixel dimesions are very small (only a 28x28 image), the edges are localized too strictly. We will now blur the image to to get an \"area\" around which the edge occurs. Instead of getting a single pixel, we will get whereabouts of the image."
      ]
    },
    {
      "cell_type": "code",
      "metadata": {
        "id": "dnoV0YQeOgqe"
      },
      "source": [
        "x_train_blurred = []\n",
        "\n",
        "for img in x_train_filtered:\n",
        "  x_blurred = scipy.ndimage.gaussian_filter(img, 0.12)\n",
        "  x_train_blurred.append(x_blurred)"
      ],
      "execution_count": null,
      "outputs": []
    },
    {
      "cell_type": "code",
      "metadata": {
        "colab": {
          "base_uri": "https://localhost:8080/"
        },
        "id": "uK8FdSoXWg2G",
        "outputId": "19b34323-5772-4e5b-dee0-ada6a5505310"
      },
      "source": [
        "x_train_blurred = np.array(x_train_blurred)\n",
        "x_train_blurred.shape"
      ],
      "execution_count": null,
      "outputs": [
        {
          "output_type": "execute_result",
          "data": {
            "text/plain": [
              "(60000, 26, 26)"
            ]
          },
          "metadata": {
            "tags": []
          },
          "execution_count": 62
        }
      ]
    },
    {
      "cell_type": "code",
      "metadata": {
        "colab": {
          "base_uri": "https://localhost:8080/",
          "height": 282
        },
        "id": "w9GW821DWi58",
        "outputId": "8b35a9c1-ff65-4605-a65e-ae0d6bae8bd3"
      },
      "source": [
        "plt.imshow(x_train_blurred[1, :, :], cmap=\"gray\")"
      ],
      "execution_count": null,
      "outputs": [
        {
          "output_type": "execute_result",
          "data": {
            "text/plain": [
              "<matplotlib.image.AxesImage at 0x7f52d740c6a0>"
            ]
          },
          "metadata": {
            "tags": []
          },
          "execution_count": 63
        },
        {
          "output_type": "display_data",
          "data": {
            "image/png": "[encoded data removed]",
            "text/plain": [
              "<Figure size 432x288 with 1 Axes>"
            ]
          },
          "metadata": {
            "tags": [],
            "needs_background": "light"
          }
        }
      ]
    },
    {
      "cell_type": "code",
      "metadata": {
        "id": "t8-_DsGiWlGz"
      },
      "source": [
        "x_test_blurred = []\n",
        "\n",
        "for img in x_test_filtered:\n",
        "  x_test_img = scipy.ndimage.gaussian_filter(img, 0.12)\n",
        "  x_test_blurred.append(x_test_img)"
      ],
      "execution_count": null,
      "outputs": []
    },
    {
      "cell_type": "code",
      "metadata": {
        "colab": {
          "base_uri": "https://localhost:8080/"
        },
        "id": "QflU0IdlWnVV",
        "outputId": "fc68f7bd-eaac-4340-a31a-a0fc9d7d3a6a"
      },
      "source": [
        "x_test_blurred = np.array(x_test_blurred)\n",
        "x_test_blurred.shape"
      ],
      "execution_count": null,
      "outputs": [
        {
          "output_type": "execute_result",
          "data": {
            "text/plain": [
              "(10000, 26, 26)"
            ]
          },
          "metadata": {
            "tags": []
          },
          "execution_count": 65
        }
      ]
    },
    {
      "cell_type": "code",
      "metadata": {
        "colab": {
          "base_uri": "https://localhost:8080/",
          "height": 282
        },
        "id": "VpVix0RqWqj4",
        "outputId": "d337e730-e635-4231-9736-acae5e3b7bc7"
      },
      "source": [
        "plt.imshow(x_test_blurred[0, :, :], cmap=\"gray\")"
      ],
      "execution_count": null,
      "outputs": [
        {
          "output_type": "execute_result",
          "data": {
            "text/plain": [
              "<matplotlib.image.AxesImage at 0x7f52d75492b0>"
            ]
          },
          "metadata": {
            "tags": []
          },
          "execution_count": 66
        },
        {
          "output_type": "display_data",
          "data": {
            "image/png": "[encoded data removed]",
            "text/plain": [
              "<Figure size 432x288 with 1 Axes>"
            ]
          },
          "metadata": {
            "tags": [],
            "needs_background": "light"
          }
        }
      ]
    },
    {
      "cell_type": "code",
      "metadata": {
        "colab": {
          "base_uri": "https://localhost:8080/"
        },
        "id": "PZ3X_PtXW5Wy",
        "outputId": "ab419f77-9d8a-4e56-f92a-9c078ef51dd1"
      },
      "source": [
        "# break into testing and validation sets\n",
        "(x_train_3, x_valid_3) = x_train_blurred[5000:], x_train_blurred[:5000] \n",
        "(y_train_3, y_valid_3) = y_train[5000:], y_train[:5000]\n",
        "\n",
        "# reshape the data\n",
        "w, h = 26, 26\n",
        "x_train_3 = x_train_3.reshape(x_train_3.shape[0], w, h, 1)\n",
        "x_valid_3 = x_valid_3.reshape(x_valid_3.shape[0], w, h, 1)\n",
        "x_test_3 = x_test_blurred.reshape(x_test_blurred.shape[0], w, h, 1)\n",
        "\n",
        "y_train_3 = tf.keras.utils.to_categorical(y_train_3, 10)\n",
        "y_valid_3 = tf.keras.utils.to_categorical(y_valid_3, 10)\n",
        "y_test_3 = tf.keras.utils.to_categorical(y_test, 10)"
      ],
      "execution_count": null,
      "outputs": [
        {
          "output_type": "stream",
          "text": [
            "x_train shape: (55000, 26, 26, 1) y_train shape: (55000, 10)\n",
            "55000 train set\n",
            "5000 validation set\n",
            "10000 test set\n"
          ],
          "name": "stdout"
        }
      ]
    },
    {
      "cell_type": "code",
      "metadata": {
        "id": "b_jrQldiE89s"
      },
      "source": [
        "model_1.compile(loss='categorical_crossentropy',\n",
        "             optimizer='adam',\n",
        "             metrics=['accuracy'])"
      ],
      "execution_count": null,
      "outputs": []
    },
    {
      "cell_type": "code",
      "metadata": {
        "colab": {
          "base_uri": "https://localhost:8080/"
        },
        "id": "hdoNkRLYXQfi",
        "outputId": "e923c471-f14e-4c94-a8f0-684861da40e4"
      },
      "source": [
        "from keras.callbacks import ModelCheckpoint\n",
        "\n",
        "checkpointer = ModelCheckpoint(filepath='model.weights.best.hdf5', verbose = 1, save_best_only=True)\n",
        "model_1.fit(x_train_3,\n",
        "         y_train_3,\n",
        "         batch_size=64,\n",
        "         epochs=10,\n",
        "         validation_data=(x_valid_3, y_valid_3),\n",
        "         callbacks=[checkpointer])"
      ],
      "execution_count": null,
      "outputs": [
        {
          "output_type": "stream",
          "text": [
            "Epoch 1/10\n",
            "860/860 [==============================] - 14s 17ms/step - loss: 0.3063 - accuracy: 0.8872 - val_loss: 0.3478 - val_accuracy: 0.8776\n",
            "\n",
            "Epoch 00001: val_loss improved from inf to 0.34779, saving model to model.weights.best.hdf5\n",
            "Epoch 2/10\n",
            "860/860 [==============================] - 14s 17ms/step - loss: 0.2930 - accuracy: 0.8933 - val_loss: 0.3505 - val_accuracy: 0.8868\n",
            "\n",
            "Epoch 00002: val_loss did not improve from 0.34779\n",
            "Epoch 3/10\n",
            "860/860 [==============================] - 15s 17ms/step - loss: 0.2792 - accuracy: 0.8969 - val_loss: 0.3279 - val_accuracy: 0.8842\n",
            "\n",
            "Epoch 00003: val_loss improved from 0.34779 to 0.32788, saving model to model.weights.best.hdf5\n",
            "Epoch 4/10\n",
            "860/860 [==============================] - 15s 17ms/step - loss: 0.2655 - accuracy: 0.9013 - val_loss: 0.3694 - val_accuracy: 0.8820\n",
            "\n",
            "Epoch 00004: val_loss did not improve from 0.32788\n",
            "Epoch 5/10\n",
            "860/860 [==============================] - 14s 17ms/step - loss: 0.2589 - accuracy: 0.9041 - val_loss: 0.3445 - val_accuracy: 0.8836\n",
            "\n",
            "Epoch 00005: val_loss did not improve from 0.32788\n",
            "Epoch 6/10\n",
            "860/860 [==============================] - 14s 17ms/step - loss: 0.2385 - accuracy: 0.9102 - val_loss: 0.3570 - val_accuracy: 0.8820\n",
            "\n",
            "Epoch 00006: val_loss did not improve from 0.32788\n",
            "Epoch 7/10\n",
            "860/860 [==============================] - 14s 17ms/step - loss: 0.2544 - accuracy: 0.9083 - val_loss: 0.3662 - val_accuracy: 0.8810\n",
            "\n",
            "Epoch 00007: val_loss did not improve from 0.32788\n",
            "Epoch 8/10\n",
            "860/860 [==============================] - 14s 17ms/step - loss: 0.2265 - accuracy: 0.9154 - val_loss: 0.3965 - val_accuracy: 0.8808\n",
            "\n",
            "Epoch 00008: val_loss did not improve from 0.32788\n",
            "Epoch 9/10\n",
            "860/860 [==============================] - 14s 17ms/step - loss: 0.2263 - accuracy: 0.9161 - val_loss: 0.3972 - val_accuracy: 0.8832\n",
            "\n",
            "Epoch 00009: val_loss did not improve from 0.32788\n",
            "Epoch 10/10\n",
            "860/860 [==============================] - 14s 17ms/step - loss: 0.1935 - accuracy: 0.9248 - val_loss: 0.4091 - val_accuracy: 0.8846\n",
            "\n",
            "Epoch 00010: val_loss did not improve from 0.32788\n"
          ],
          "name": "stdout"
        },
        {
          "output_type": "execute_result",
          "data": {
            "text/plain": [
              "<tensorflow.python.keras.callbacks.History at 0x7f52d758a6d8>"
            ]
          },
          "metadata": {
            "tags": []
          },
          "execution_count": 69
        }
      ]
    },
    {
      "cell_type": "markdown",
      "metadata": {
        "id": "CX7vd6zKYXKv"
      },
      "source": [
        "Determine Best Model Accuracy for Blurred EdgeMaps of Fashion MNIST dataset"
      ]
    },
    {
      "cell_type": "code",
      "metadata": {
        "id": "YRzINk9MYXwN"
      },
      "source": [
        "model_1.load_weights('model.weights.best.hdf5')"
      ],
      "execution_count": null,
      "outputs": []
    },
    {
      "cell_type": "code",
      "metadata": {
        "colab": {
          "base_uri": "https://localhost:8080/"
        },
        "id": "HR469rOIa-g7",
        "outputId": "acd181ec-9e2d-45a4-ee64-b1f8cb3e55ae"
      },
      "source": [
        "score = model_3.evaluate(x_test_3, y_test_3, verbose=0)\n",
        "\n",
        "print('\\n', 'Test accuracy:', score[1])"
      ],
      "execution_count": null,
      "outputs": [
        {
          "output_type": "stream",
          "text": [
            "\n",
            " Test accuracy: 0.8652999997138977\n"
          ],
          "name": "stdout"
        }
      ]
    },
    {
      "cell_type": "code",
      "metadata": {
        "colab": {
          "base_uri": "https://localhost:8080/"
        },
        "id": "-NPOZT3AAUI_",
        "outputId": "ebe3b1b8-6fdf-4f42-ac4c-e4b08121a7f5"
      },
      "source": [
        "y_hat_3 = model_3.predict(x_test_3)\n",
        "\n",
        "pred_values_3 = []\n",
        "class_names = range(10)\n",
        "for i in range(10000):\n",
        "  pred_values_3.append(class_names[y_hat_3[i].argmax()])\n",
        "\n",
        "pred_values_3 = np.array(pred_values_3)\n",
        "confusion_matrix(y_test, pred_values_3)"
      ],
      "execution_count": null,
      "outputs": [
        {
          "output_type": "execute_result",
          "data": {
            "text/plain": [
              "array([[816,   2,   7,  19,   7,   0, 141,   0,   8,   0],\n",
              "       [  0, 972,   0,  15,   4,   0,   6,   0,   3,   0],\n",
              "       [ 16,   0, 721,   9, 140,   0, 109,   0,   5,   0],\n",
              "       [ 13,  21,   7, 874,  33,   0,  46,   0,   5,   1],\n",
              "       [  1,   2,  52,  36, 804,   0, 100,   0,   5,   0],\n",
              "       [  0,   0,   0,   0,   0, 942,   0,  45,   1,  12],\n",
              "       [100,   8,  72,  26,  97,   0, 683,   0,  14,   0],\n",
              "       [  0,   0,   0,   0,   0,  46,   0, 929,   0,  25],\n",
              "       [  1,   1,   2,   5,   5,   3,   9,   1, 972,   1],\n",
              "       [  1,   0,   0,   0,   0,  11,   0,  48,   0, 940]])"
            ]
          },
          "metadata": {
            "tags": []
          },
          "execution_count": 53
        }
      ]
    },
    {
      "cell_type": "markdown",
      "metadata": {
        "id": "Kc-XVwzdzJ8x"
      },
      "source": [
        "Create the Combined Dataset"
      ]
    },
    {
      "cell_type": "code",
      "metadata": {
        "id": "md95Snd1zJSn"
      },
      "source": [
        "new_images_test = np.empty((10000,56,28), dtype=float, order='C')\n",
        "new_images_train = np.empty((60000,56,28), dtype=float, order='C')\n",
        "\n",
        "i = 0\n",
        "for img1, img2 in zip(x_train, x_train_filtered):\n",
        "  img2 = np.pad(img2,1)\n",
        "  img = np.append(img2.flat, img1.flat)\n",
        "  img = img.reshape(56,28)\n",
        "  new_images_train[i,:,:] = img[:,:]\n",
        "  i = i + 1\n",
        "\n",
        "i = 0\n",
        "for img1, img2 in zip(x_test, x_test_filtered):\n",
        "  img2 = np.pad(img2,1)\n",
        "  img = np.append(img2.flat, img1.flat)\n",
        "  img = img.reshape(56,28)\n",
        "  new_images_test[i,:,:] = img[:,:]\n",
        "  i = i + 1"
      ],
      "execution_count": null,
      "outputs": []
    },
    {
      "cell_type": "code",
      "metadata": {
        "colab": {
          "base_uri": "https://localhost:8080/"
        },
        "id": "nHkHyjNx0E_p",
        "outputId": "5a91bdbc-9cd7-414a-e184-c501fe5248ab"
      },
      "source": [
        "new_images_test.shape\n"
      ],
      "execution_count": null,
      "outputs": [
        {
          "output_type": "execute_result",
          "data": {
            "text/plain": [
              "(10000, 56, 28)"
            ]
          },
          "metadata": {
            "tags": []
          },
          "execution_count": 67
        }
      ]
    },
    {
      "cell_type": "code",
      "metadata": {
        "colab": {
          "base_uri": "https://localhost:8080/",
          "height": 284
        },
        "id": "eSqOBc1hCFzJ",
        "outputId": "22ca3c95-b564-436f-a904-0a563cf3fc74"
      },
      "source": [
        "plt.imshow(new_images_train[100,:,:],cmap='gray')"
      ],
      "execution_count": null,
      "outputs": [
        {
          "output_type": "execute_result",
          "data": {
            "text/plain": [
              "<matplotlib.image.AxesImage at 0x7f5a1765ce80>"
            ]
          },
          "metadata": {
            "tags": []
          },
          "execution_count": 75
        },
        {
          "output_type": "display_data",
          "data": {
            "image/png": "[encoded data removed]",
            "text/plain": [
              "<Figure size 432x288 with 1 Axes>"
            ]
          },
          "metadata": {
            "tags": [],
            "needs_background": "light"
          }
        }
      ]
    },
    {
      "cell_type": "code",
      "metadata": {
        "id": "X-5KmDhdsXPw"
      },
      "source": [
        "model_3 = tf.keras.Sequential()\n",
        "\n",
        "model_3.add(Conv2D(64, kernel_size=(3, 3), activation='relu', kernel_initializer='he_normal', padding='same', input_shape=(56, 28, 1)))\n",
        "model_3.add(Conv2D(64, kernel_size=(3, 3), activation='relu',padding='same'))\n",
        "model_3.add(tf.keras.layers.BatchNormalization())\n",
        "model_3.add(MaxPooling2D(pool_size=(2, 2)))\n",
        "model_3.add(Dropout(0.3))\n",
        "\n",
        "model_3.add(Conv2D(128, kernel_size=(3, 3), activation='relu', kernel_initializer='he_normal', padding='same', input_shape=(56, 28, 1)))\n",
        "model_3.add(Conv2D(128, kernel_size=(3, 3), padding='same', activation='relu'))\n",
        "model_3.add(tf.keras.layers.BatchNormalization())\n",
        "model_3.add(MaxPooling2D(pool_size=(2, 2)))\n",
        "model_3.add(Dropout(0.3))\n",
        "\n",
        "model_3.add(Conv2D(128, kernel_size=(3, 3), activation='relu', kernel_initializer='he_normal', padding='same', input_shape=(56, 28, 1)))\n",
        "model_3.add(Conv2D(128,  kernel_size=(3, 3), padding='same',activation='relu'))\n",
        "model_3.add(tf.keras.layers.BatchNormalization())\n",
        "model_3.add(MaxPooling2D(pool_size=(2, 2)))\n",
        "model_3.add(Dropout(0.3))\n",
        "\n",
        "model_3.add(Flatten())\n",
        "model_3.add(Dense(1024, activation='relu'))\n",
        "model_3.add(Dropout(0.3))\n",
        "model_3.add(Dense(256, activation='relu'))\n",
        "model_3.add(Dropout(0.3))\n",
        "model_3.add(Dense(NUM_CLASSES, activation='softmax'))\n",
        "\n",
        "model_3.summary()"
      ],
      "execution_count": null,
      "outputs": []
    },
    {
      "cell_type": "code",
      "metadata": {
        "id": "nZ-j7QbKLbbr"
      },
      "source": [
        "def define_latest_model():\n",
        "\n",
        "  model_3 = tf.keras.Sequential()\n",
        "\n",
        "  model_3.add(Conv2D(64, kernel_size=(3, 3),activation='relu',kernel_initializer='he_normal', padding='same', input_shape=(56, 28, 1)))\n",
        "  model_3.add(Conv2D(64,  kernel_size=(3, 3),  activation='relu',padding='same'))\n",
        "  model_3.add(tf.keras.layers.BatchNormalization())\n",
        "  model_3.add(MaxPooling2D(pool_size=(2, 2)))\n",
        "  model_3.add(Dropout(0.3))\n",
        "\n",
        "  model_3.add(Conv2D(128, kernel_size=(3, 3), activation='relu', kernel_initializer='he_normal', padding='same', input_shape=(56, 28, 1)))\n",
        "  model_3.add(Conv2D(128, kernel_size=(3, 3), padding='same', activation='relu'))\n",
        "  model_3.add(tf.keras.layers.BatchNormalization())\n",
        "  model_3.add(MaxPooling2D(pool_size=(2, 2)))\n",
        "  model_3.add(Dropout(0.3))\n",
        "\n",
        "  model_3.add(Conv2D(128, kernel_size=(3, 3), activation='relu', kernel_initializer='he_normal', padding='same', input_shape=(56, 28, 1)))\n",
        "  model_3.add(Conv2D(128, kernel_size=(3, 3), padding='same',activation='relu'))\n",
        "  model_3.add(tf.keras.layers.BatchNormalization())\n",
        "  model_3.add(MaxPooling2D(pool_size=(2, 2)))\n",
        "  model_3.add(Dropout(0.3))\n",
        "\n",
        "  model_3.add(Flatten())\n",
        "  model_3.add(Dense(1024, activation='relu'))\n",
        "  model_3.add(Dropout(0.3))\n",
        "  model_3.add(Dense(256, activation='relu'))\n",
        "  model_3.add(Dropout(0.3))\n",
        "  model_3.add(Dense(NUM_CLASSES, activation='softmax'))\n",
        "\n",
        "  model_3.compile(loss='categorical_crossentropy', optimizer='adam', metrics=['accuracy'])\n",
        "\n",
        "  return model_3\n"
      ],
      "execution_count": null,
      "outputs": []
    },
    {
      "cell_type": "code",
      "metadata": {
        "id": "kNoX69AzMAzH"
      },
      "source": [
        "# evaluate a model using k-fold cross-validation\n",
        "def evaluate_latest_model(dataX, dataY, n_folds=5):\n",
        "\tscores, histories = list(), list()\n",
        "\t# prepare cross validation\n",
        "\tkfold = KFold(n_folds, shuffle=True, random_state=1)\n",
        "\tfor train_ix, test_ix in kfold.split(dataX):\n",
        "\t\t# define model\n",
        "\t\tmodel = define_latest_model()\n",
        "\t\ttrainX, trainY, testX, testY = dataX[train_ix], dataY[train_ix], dataX[test_ix], dataY[test_ix]\n",
        "\t\thistory = model.fit(trainX, trainY, epochs=10, batch_size=32, validation_data=(testX, testY), verbose=0)\n",
        "\t\t_, acc = model.evaluate(testX, testY, verbose=0)\n",
        "\t\tprint('> %.3f' % (acc * 100.0))\n",
        "\t\tscores.append(acc)\n",
        "\t\thistories.append(history)\n",
        "\treturn scores, histories"
      ],
      "execution_count": null,
      "outputs": []
    },
    {
      "cell_type": "code",
      "metadata": {
        "colab": {
          "base_uri": "https://localhost:8080/"
        },
        "id": "wSobgeXFMEUn",
        "outputId": "457040dc-2ef0-4087-f618-6233c6bfb38b"
      },
      "source": [
        "scores_previous, histories_previous = evaluate_latest_model(x_train_4, y_train_4)"
      ],
      "execution_count": null,
      "outputs": [
        {
          "output_type": "stream",
          "text": [
            "> 92.309\n",
            "> 92.691\n",
            "> 91.991\n",
            "> 91.782\n",
            "> 92.300\n"
          ],
          "name": "stdout"
        }
      ]
    },
    {
      "cell_type": "code",
      "metadata": {
        "colab": {
          "base_uri": "https://localhost:8080/",
          "height": 282
        },
        "id": "lJnM2rDhMMI0",
        "outputId": "ab8c54e4-955b-475f-e500-d620decda442"
      },
      "source": [
        "summarize_performance(scores_previous)"
      ],
      "execution_count": null,
      "outputs": [
        {
          "output_type": "stream",
          "text": [
            "Accuracy: mean=92.215 std=0.310, n=5\n"
          ],
          "name": "stdout"
        },
        {
          "output_type": "display_data",
          "data": {
            "image/png": "[encoded data removed]",
            "text/plain": [
              "<Figure size 432x288 with 1 Axes>"
            ]
          },
          "metadata": {
            "tags": [],
            "needs_background": "light"
          }
        }
      ]
    },
    {
      "cell_type": "code",
      "metadata": {
        "colab": {
          "base_uri": "https://localhost:8080/",
          "height": 217
        },
        "id": "UI_IbZ4gMMR4",
        "outputId": "3cc503ba-5233-493b-b7f5-49af6f90c11f"
      },
      "source": [
        "summarize_diagnostics(histories_previous)"
      ],
      "execution_count": null,
      "outputs": [
        {
          "output_type": "stream",
          "text": [
            "/usr/local/lib/python3.6/dist-packages/ipykernel_launcher.py:4: MatplotlibDeprecationWarning: Adding an axes using the same arguments as a previous axes currently reuses the earlier instance.  In a future version, a new instance will always be created and returned.  Meanwhile, this warning can be suppressed, and the future behavior ensured, by passing a unique label to each axes instance.\n",
            "  after removing the cwd from sys.path.\n"
          ],
          "name": "stderr"
        },
        {
          "output_type": "display_data",
          "data": {
            "image/png": "[encoded data removed]",
            "text/plain": [
              "<Figure size 432x288 with 1 Axes>"
            ]
          },
          "metadata": {
            "tags": [],
            "needs_background": "light"
          }
        }
      ]
    },
    {
      "cell_type": "code",
      "metadata": {
        "colab": {
          "base_uri": "https://localhost:8080/"
        },
        "id": "ygGXmJDdsXUI",
        "outputId": "79684156-63dc-4b02-b154-21b1730e6290"
      },
      "source": [
        "# split into training and validation sets\n",
        "(x_train_4, x_valid_4) = new_images_train[5000:], new_images_train[:5000] \n",
        "(y_train_4, y_valid_4) = y_train[5000:], y_train[:5000]\n",
        "\n",
        "# reshape data\n",
        "w, h = 56, 28\n",
        "x_train_4 = x_train_4.reshape(x_train_4.shape[0], w, h, 1)\n",
        "x_valid_4 = x_valid_4.reshape(x_valid_4.shape[0], w, h, 1)\n",
        "x_test_4 = new_images_test.reshape(new_images_test.shape[0], w, h, 1)\n",
        "\n",
        "y_train_4 = tf.keras.utils.to_categorical(y_train_4, 10)\n",
        "y_valid_4 = tf.keras.utils.to_categorical(y_valid_4, 10)\n",
        "y_test_4 = tf.keras.utils.to_categorical(y_test, 10)"
      ],
      "execution_count": null,
      "outputs": [
        {
          "output_type": "stream",
          "text": [
            "x_train shape: (55000, 56, 28, 1) y_train shape: (55000, 10)\n",
            "55000 train set\n",
            "5000 validation set\n",
            "10000 test set\n"
          ],
          "name": "stdout"
        }
      ]
    },
    {
      "cell_type": "code",
      "metadata": {
        "id": "Sdo-zttn3JLI"
      },
      "source": [
        "model_3.compile(loss='categorical_crossentropy',\n",
        "             optimizer='adam',\n",
        "             metrics=['accuracy'])"
      ],
      "execution_count": null,
      "outputs": []
    },
    {
      "cell_type": "code",
      "metadata": {
        "colab": {
          "base_uri": "https://localhost:8080/"
        },
        "id": "CmKXdMX588Rn",
        "outputId": "588c31e0-9167-4d3d-a681-792d8e6a6818"
      },
      "source": [
        "from keras.callbacks import ModelCheckpoint\n",
        "\n",
        "checkpointer = ModelCheckpoint(filepath='model.weights.best.hdf5', verbose = 1, save_best_only=True)\n",
        "history = model_3.fit(x_train_4,\n",
        "         y_train_4,\n",
        "         batch_size=128,\n",
        "         epochs=30,\n",
        "         validation_data=(x_valid_4, y_valid_4),\n",
        "         callbacks=[checkpointer])"
      ],
      "execution_count": null,
      "outputs": [
        {
          "output_type": "stream",
          "text": [
            "Epoch 1/30\n",
            "430/430 [==============================] - 18s 42ms/step - loss: 0.4306 - accuracy: 0.8433 - val_loss: 0.3354 - val_accuracy: 0.8742\n",
            "\n",
            "Epoch 00001: val_loss improved from inf to 0.33536, saving model to model.weights.best.hdf5\n",
            "Epoch 2/30\n",
            "430/430 [==============================] - 17s 41ms/step - loss: 0.3454 - accuracy: 0.8726 - val_loss: 0.2881 - val_accuracy: 0.8976\n",
            "\n",
            "Epoch 00002: val_loss improved from 0.33536 to 0.28807, saving model to model.weights.best.hdf5\n",
            "Epoch 3/30\n",
            "430/430 [==============================] - 17s 40ms/step - loss: 0.3074 - accuracy: 0.8872 - val_loss: 0.2789 - val_accuracy: 0.8940\n",
            "\n",
            "Epoch 00003: val_loss improved from 0.28807 to 0.27892, saving model to model.weights.best.hdf5\n",
            "Epoch 4/30\n",
            "430/430 [==============================] - 17s 40ms/step - loss: 0.2817 - accuracy: 0.8975 - val_loss: 0.2630 - val_accuracy: 0.8992\n",
            "\n",
            "Epoch 00004: val_loss improved from 0.27892 to 0.26298, saving model to model.weights.best.hdf5\n",
            "Epoch 5/30\n",
            "430/430 [==============================] - 17s 40ms/step - loss: 0.2624 - accuracy: 0.9047 - val_loss: 0.2312 - val_accuracy: 0.9130\n",
            "\n",
            "Epoch 00005: val_loss improved from 0.26298 to 0.23120, saving model to model.weights.best.hdf5\n",
            "Epoch 6/30\n",
            "430/430 [==============================] - 17s 40ms/step - loss: 0.2400 - accuracy: 0.9117 - val_loss: 0.2360 - val_accuracy: 0.9148\n",
            "\n",
            "Epoch 00006: val_loss did not improve from 0.23120\n",
            "Epoch 7/30\n",
            "430/430 [==============================] - 17s 40ms/step - loss: 0.2264 - accuracy: 0.9188 - val_loss: 0.2025 - val_accuracy: 0.9286\n",
            "\n",
            "Epoch 00007: val_loss improved from 0.23120 to 0.20245, saving model to model.weights.best.hdf5\n",
            "Epoch 8/30\n",
            "430/430 [==============================] - 17s 40ms/step - loss: 0.2150 - accuracy: 0.9211 - val_loss: 0.2069 - val_accuracy: 0.9238\n",
            "\n",
            "Epoch 00008: val_loss did not improve from 0.20245\n",
            "Epoch 9/30\n",
            "430/430 [==============================] - 17s 40ms/step - loss: 0.2010 - accuracy: 0.9281 - val_loss: 0.2387 - val_accuracy: 0.9150\n",
            "\n",
            "Epoch 00009: val_loss did not improve from 0.20245\n",
            "Epoch 10/30\n",
            "430/430 [==============================] - 17s 40ms/step - loss: 0.1941 - accuracy: 0.9305 - val_loss: 0.2083 - val_accuracy: 0.9244\n",
            "\n",
            "Epoch 00010: val_loss did not improve from 0.20245\n",
            "Epoch 11/30\n",
            "430/430 [==============================] - 17s 40ms/step - loss: 0.1839 - accuracy: 0.9325 - val_loss: 0.2005 - val_accuracy: 0.9276\n",
            "\n",
            "Epoch 00011: val_loss improved from 0.20245 to 0.20046, saving model to model.weights.best.hdf5\n",
            "Epoch 12/30\n",
            "430/430 [==============================] - 17s 40ms/step - loss: 0.1741 - accuracy: 0.9348 - val_loss: 0.2096 - val_accuracy: 0.9246\n",
            "\n",
            "Epoch 00012: val_loss did not improve from 0.20046\n",
            "Epoch 13/30\n",
            "430/430 [==============================] - 17s 40ms/step - loss: 0.1653 - accuracy: 0.9403 - val_loss: 0.2224 - val_accuracy: 0.9276\n",
            "\n",
            "Epoch 00013: val_loss did not improve from 0.20046\n",
            "Epoch 14/30\n",
            "430/430 [==============================] - 17s 40ms/step - loss: 0.1597 - accuracy: 0.9406 - val_loss: 0.1883 - val_accuracy: 0.9324\n",
            "\n",
            "Epoch 00014: val_loss improved from 0.20046 to 0.18833, saving model to model.weights.best.hdf5\n",
            "Epoch 15/30\n",
            "430/430 [==============================] - 17s 40ms/step - loss: 0.1551 - accuracy: 0.9435 - val_loss: 0.2092 - val_accuracy: 0.9296\n",
            "\n",
            "Epoch 00015: val_loss did not improve from 0.18833\n",
            "Epoch 16/30\n",
            "430/430 [==============================] - 17s 40ms/step - loss: 0.1478 - accuracy: 0.9460 - val_loss: 0.2078 - val_accuracy: 0.9288\n",
            "\n",
            "Epoch 00016: val_loss did not improve from 0.18833\n",
            "Epoch 17/30\n",
            "430/430 [==============================] - 17s 40ms/step - loss: 0.1373 - accuracy: 0.9489 - val_loss: 0.2126 - val_accuracy: 0.9318\n",
            "\n",
            "Epoch 00017: val_loss did not improve from 0.18833\n",
            "Epoch 18/30\n",
            "430/430 [==============================] - 17s 40ms/step - loss: 0.1351 - accuracy: 0.9497 - val_loss: 0.2493 - val_accuracy: 0.9276\n",
            "\n",
            "Epoch 00018: val_loss did not improve from 0.18833\n",
            "Epoch 19/30\n",
            "430/430 [==============================] - 17s 40ms/step - loss: 0.1265 - accuracy: 0.9536 - val_loss: 0.2194 - val_accuracy: 0.9308\n",
            "\n",
            "Epoch 00019: val_loss did not improve from 0.18833\n",
            "Epoch 20/30\n",
            "430/430 [==============================] - 17s 40ms/step - loss: 0.1258 - accuracy: 0.9541 - val_loss: 0.2020 - val_accuracy: 0.9370\n",
            "\n",
            "Epoch 00020: val_loss did not improve from 0.18833\n",
            "Epoch 21/30\n",
            "430/430 [==============================] - 17s 40ms/step - loss: 0.1166 - accuracy: 0.9572 - val_loss: 0.2071 - val_accuracy: 0.9336\n",
            "\n",
            "Epoch 00021: val_loss did not improve from 0.18833\n",
            "Epoch 22/30\n",
            "430/430 [==============================] - 17s 40ms/step - loss: 0.1110 - accuracy: 0.9591 - val_loss: 0.2166 - val_accuracy: 0.9368\n",
            "\n",
            "Epoch 00022: val_loss did not improve from 0.18833\n",
            "Epoch 23/30\n",
            "430/430 [==============================] - 17s 40ms/step - loss: 0.1102 - accuracy: 0.9586 - val_loss: 0.2077 - val_accuracy: 0.9334\n",
            "\n",
            "Epoch 00023: val_loss did not improve from 0.18833\n",
            "Epoch 24/30\n",
            "430/430 [==============================] - 17s 40ms/step - loss: 0.1090 - accuracy: 0.9603 - val_loss: 0.2035 - val_accuracy: 0.9376\n",
            "\n",
            "Epoch 00024: val_loss did not improve from 0.18833\n",
            "Epoch 25/30\n",
            "430/430 [==============================] - 17s 40ms/step - loss: 0.1003 - accuracy: 0.9631 - val_loss: 0.2576 - val_accuracy: 0.9330\n",
            "\n",
            "Epoch 00025: val_loss did not improve from 0.18833\n",
            "Epoch 26/30\n",
            "430/430 [==============================] - 17s 40ms/step - loss: 0.0988 - accuracy: 0.9638 - val_loss: 0.2421 - val_accuracy: 0.9334\n",
            "\n",
            "Epoch 00026: val_loss did not improve from 0.18833\n",
            "Epoch 27/30\n",
            "430/430 [==============================] - 17s 40ms/step - loss: 0.0927 - accuracy: 0.9653 - val_loss: 0.2239 - val_accuracy: 0.9330\n",
            "\n",
            "Epoch 00027: val_loss did not improve from 0.18833\n",
            "Epoch 28/30\n",
            "430/430 [==============================] - 17s 40ms/step - loss: 0.0906 - accuracy: 0.9675 - val_loss: 0.2482 - val_accuracy: 0.9364\n",
            "\n",
            "Epoch 00028: val_loss did not improve from 0.18833\n",
            "Epoch 29/30\n",
            "430/430 [==============================] - 17s 40ms/step - loss: 0.0876 - accuracy: 0.9678 - val_loss: 0.2127 - val_accuracy: 0.9362\n",
            "\n",
            "Epoch 00029: val_loss did not improve from 0.18833\n",
            "Epoch 30/30\n",
            "430/430 [==============================] - 17s 40ms/step - loss: 0.0853 - accuracy: 0.9700 - val_loss: 0.2290 - val_accuracy: 0.9422\n",
            "\n",
            "Epoch 00030: val_loss did not improve from 0.18833\n"
          ],
          "name": "stdout"
        }
      ]
    },
    {
      "cell_type": "code",
      "metadata": {
        "colab": {
          "base_uri": "https://localhost:8080/",
          "height": 300
        },
        "id": "XmJ_WpZK6xTg",
        "outputId": "19d7aa5c-fe0d-4ddc-b9f4-0d79b1cba275"
      },
      "source": [
        "plt.plot(history.history['accuracy'], label='accuracy')\n",
        "plt.plot(history.history['val_accuracy'], label = 'val_accuracy')\n",
        "plt.xlabel('Epoch')\n",
        "plt.ylabel('Accuracy')\n",
        "plt.ylim([0.5, 1])\n",
        "plt.legend(loc='lower right')"
      ],
      "execution_count": null,
      "outputs": [
        {
          "output_type": "execute_result",
          "data": {
            "text/plain": [
              "<matplotlib.legend.Legend at 0x7f5b302a07b8>"
            ]
          },
          "metadata": {
            "tags": []
          },
          "execution_count": 60
        },
        {
          "output_type": "display_data",
          "data": {
            "image/png": "[encoded data removed]",
            "text/plain": [
              "<Figure size 432x288 with 1 Axes>"
            ]
          },
          "metadata": {
            "tags": [],
            "needs_background": "light"
          }
        }
      ]
    },
    {
      "cell_type": "code",
      "metadata": {
        "id": "EKQNO-cI9E63"
      },
      "source": [
        "model_3.load_weights('model.weights.best.hdf5')"
      ],
      "execution_count": null,
      "outputs": []
    },
    {
      "cell_type": "code",
      "metadata": {
        "id": "6sJeg0bL9JxY",
        "colab": {
          "base_uri": "https://localhost:8080/"
        },
        "outputId": "3a6caa09-8080-43f2-ad36-3b2b23499490"
      },
      "source": [
        "score = model_3.evaluate(x_test_4, y_test_4, verbose=0)\n",
        "\n",
        "print('\\n', 'Test accuracy:', score[1])"
      ],
      "execution_count": null,
      "outputs": [
        {
          "output_type": "stream",
          "text": [
            "\n",
            " Test accuracy: 0.9271000027656555\n"
          ],
          "name": "stdout"
        }
      ]
    },
    {
      "cell_type": "code",
      "metadata": {
        "id": "q6QD62OKL5B-"
      },
      "source": [
        ""
      ],
      "execution_count": null,
      "outputs": []
    },
    {
      "cell_type": "code",
      "metadata": {
        "colab": {
          "base_uri": "https://localhost:8080/"
        },
        "id": "rgc8WA7hCAOx",
        "outputId": "46ade1fe-9ff8-4568-83dd-44b7caf6517b"
      },
      "source": [
        "y_hat_3 = model_3.predict(x_test_4)\n",
        "pred_values_3 = []\n",
        "class_names = range(10)\n",
        "for i in range(10000):\n",
        "  pred_values_3.append(class_names[y_hat_3[i].argmax()])\n",
        "\n",
        "pred_values_3 = np.array(pred_values_3)\n",
        "print(classification_report(y_test, pred_values_3, target_names=fashion_mnist_labels))"
      ],
      "execution_count": null,
      "outputs": [
        {
          "output_type": "stream",
          "text": [
            "              precision    recall  f1-score   support\n",
            "\n",
            " T-shirt/top       0.85      0.91      0.88      1000\n",
            "     Trouser       1.00      0.98      0.99      1000\n",
            "    Pullover       0.91      0.89      0.90      1000\n",
            "       Dress       0.93      0.93      0.93      1000\n",
            "        Coat       0.87      0.91      0.89      1000\n",
            "      Sandal       0.99      0.99      0.99      1000\n",
            "       Shirt       0.81      0.75      0.78      1000\n",
            "     Sneaker       0.97      0.96      0.97      1000\n",
            "         Bag       0.98      0.99      0.99      1000\n",
            "  Ankle boot       0.96      0.97      0.97      1000\n",
            "\n",
            "    accuracy                           0.93     10000\n",
            "   macro avg       0.93      0.93      0.93     10000\n",
            "weighted avg       0.93      0.93      0.93     10000\n",
            "\n"
          ],
          "name": "stdout"
        }
      ]
    },
    {
      "cell_type": "markdown",
      "metadata": {
        "id": "9dCtt1xn6s8N"
      },
      "source": [
        "Confusion Matrix for Different Models to Compare groups that are mixed"
      ]
    },
    {
      "cell_type": "code",
      "metadata": {
        "id": "qDBn-whgHMq2"
      },
      "source": [
        "conf1 = confusion_matrix(y_test, pred_values_1)\n",
        "conf2 = confusion_matrix(y_test, pred_values_2)\n",
        "conf3 = confusion_matrix(y_test, pred_values_3)"
      ],
      "execution_count": null,
      "outputs": []
    },
    {
      "cell_type": "code",
      "metadata": {
        "colab": {
          "base_uri": "https://localhost:8080/"
        },
        "id": "yJa2old8lOkC",
        "outputId": "093849d5-ac5a-4bc8-cbcc-d49b78353e20"
      },
      "source": [
        "conf1"
      ],
      "execution_count": null,
      "outputs": [
        {
          "output_type": "execute_result",
          "data": {
            "text/plain": [
              "array([[887,   0,  17,   9,   5,   1,  72,   0,   9,   0],\n",
              "       [  1, 987,   1,   7,   3,   0,   0,   0,   1,   0],\n",
              "       [ 12,   2, 903,   5,  36,   0,  41,   0,   1,   0],\n",
              "       [  9,   5,   7, 948,  19,   0,  11,   0,   1,   0],\n",
              "       [  0,   1,  15,  15, 941,   0,  28,   0,   0,   0],\n",
              "       [  0,   0,   0,   0,   0, 990,   0,   3,   0,   7],\n",
              "       [ 82,   0,  30,  21,  71,   0, 791,   0,   5,   0],\n",
              "       [  0,   0,   0,   0,   0,  13,   0, 967,   0,  20],\n",
              "       [  1,   1,   0,   3,   1,   1,   2,   0, 991,   0],\n",
              "       [  0,   0,   0,   0,   0,   4,   0,  24,   0, 972]])"
            ]
          },
          "metadata": {
            "tags": []
          },
          "execution_count": 87
        }
      ]
    },
    {
      "cell_type": "code",
      "metadata": {
        "colab": {
          "base_uri": "https://localhost:8080/"
        },
        "id": "pg1qIrgzlYn5",
        "outputId": "f3e0ef98-fce4-4e07-8a27-9be8a51eeea9"
      },
      "source": [
        "conf2"
      ],
      "execution_count": null,
      "outputs": [
        {
          "output_type": "execute_result",
          "data": {
            "text/plain": [
              "array([[864,   1,  19,  18,   5,   0,  87,   0,   6,   0],\n",
              "       [  0, 954,   0,  35,   4,   0,   5,   0,   2,   0],\n",
              "       [ 14,   0, 800,   9,  94,   0,  79,   0,   4,   0],\n",
              "       [ 21,   4,   8, 889,  30,   0,  45,   0,   3,   0],\n",
              "       [  1,   2,  88,  28, 795,   0,  84,   0,   2,   0],\n",
              "       [  0,   0,   0,   0,   0, 928,   0,  61,   0,  11],\n",
              "       [142,   2,  77,  31,  80,   0, 661,   0,   7,   0],\n",
              "       [  0,   0,   0,   0,   0,  20,   0, 947,   0,  33],\n",
              "       [  4,   0,   5,   3,   4,   0,   4,   1, 979,   0],\n",
              "       [  0,   0,   0,   0,   0,   5,   1,  29,   0, 965]])"
            ]
          },
          "metadata": {
            "tags": []
          },
          "execution_count": 88
        }
      ]
    },
    {
      "cell_type": "code",
      "metadata": {
        "id": "QUHf0peNler6",
        "colab": {
          "base_uri": "https://localhost:8080/"
        },
        "outputId": "d721e6cd-92cd-4769-8756-afeef5df853c"
      },
      "source": [
        "conf3"
      ],
      "execution_count": null,
      "outputs": [
        {
          "output_type": "execute_result",
          "data": {
            "text/plain": [
              "array([[907,   0,  17,  12,   3,   0,  56,   0,   5,   0],\n",
              "       [  1, 979,   0,  13,   4,   0,   1,   0,   2,   0],\n",
              "       [ 18,   1, 885,   7,  41,   0,  48,   0,   0,   0],\n",
              "       [  8,   0,   5, 931,  36,   0,  17,   0,   2,   1],\n",
              "       [  0,   0,  19,  11, 913,   0,  56,   0,   1,   0],\n",
              "       [  0,   0,   0,   0,   0, 987,   0,   7,   0,   6],\n",
              "       [131,   0,  44,  20,  49,   0, 750,   0,   6,   0],\n",
              "       [  0,   0,   0,   0,   0,   7,   0, 963,   0,  30],\n",
              "       [  3,   0,   1,   5,   0,   2,   2,   1, 986,   0],\n",
              "       [  0,   0,   1,   0,   0,   5,   0,  24,   0, 970]])"
            ]
          },
          "metadata": {
            "tags": []
          },
          "execution_count": 89
        }
      ]
    },
    {
      "cell_type": "code",
      "metadata": {
        "colab": {
          "base_uri": "https://localhost:8080/",
          "height": 279
        },
        "id": "fe1Cz1HtF1yD",
        "outputId": "e4eb95cc-565d-429e-c06b-e24ff1f73fce"
      },
      "source": [
        "import pandas as pd\n",
        "from sklearn.cluster import KMeans\n",
        "from sklearn.decomposition import PCA\n",
        "from sklearn.preprocessing import StandardScaler\n",
        "\n",
        "df = x_train.reshape(-1,x_train.shape[1]*x_train.shape[2])\n",
        "X_std = StandardScaler().fit_transform(df)\n",
        "\n",
        "# Create a PCA instance: pca\n",
        "pca = PCA(n_components=20)\n",
        "principalComponents = pca.fit_transform(X_std)\n",
        "\n",
        "# Plot the explained variances\n",
        "features = range(pca.n_components_)\n",
        "plt.bar(features, pca.explained_variance_ratio_, color='black')\n",
        "plt.xlabel('Principal Components')\n",
        "plt.ylabel('Variance %')\n",
        "plt.xticks(features)\n",
        "PCA_components = pd.DataFrame(principalComponents)"
      ],
      "execution_count": null,
      "outputs": [
        {
          "output_type": "display_data",
          "data": {
            "image/png": "[encoded data removed]",
            "text/plain": [
              "<Figure size 432x288 with 1 Axes>"
            ]
          },
          "metadata": {
            "tags": [],
            "needs_background": "light"
          }
        }
      ]
    },
    {
      "cell_type": "code",
      "metadata": {
        "colab": {
          "base_uri": "https://localhost:8080/",
          "height": 296
        },
        "id": "3kWxxZVUF5Ix",
        "outputId": "79db3e30-b9ca-460b-cf32-68b650b420af"
      },
      "source": [
        "plt.scatter(PCA_components[0], PCA_components[1], alpha=.1, color='black')\n",
        "plt.xlabel('PCA 1')\n",
        "plt.ylabel('PCA 2')"
      ],
      "execution_count": null,
      "outputs": [
        {
          "output_type": "execute_result",
          "data": {
            "text/plain": [
              "Text(0, 0.5, 'PCA 2')"
            ]
          },
          "metadata": {
            "tags": []
          },
          "execution_count": 44
        },
        {
          "output_type": "display_data",
          "data": {
            "image/png": "[encoded data removed]",
            "text/plain": [
              "<Figure size 432x288 with 1 Axes>"
            ]
          },
          "metadata": {
            "tags": [],
            "needs_background": "light"
          }
        }
      ]
    },
    {
      "cell_type": "code",
      "metadata": {
        "id": "K8XDBwVAGGlh"
      },
      "source": [
        "X = x_train.reshape(-1,x_train.shape[1]*x_train.shape[2])\n",
        "Clus_dataSet = StandardScaler().fit_transform(X)\n",
        "variance = 0.98\n",
        "pca = PCA(variance)"
      ],
      "execution_count": null,
      "outputs": []
    },
    {
      "cell_type": "code",
      "metadata": {
        "colab": {
          "base_uri": "https://localhost:8080/"
        },
        "id": "sj4hsOqcGI53",
        "outputId": "14fc5920-6526-4375-9a11-9a54e38391da"
      },
      "source": [
        "pca.fit(Clus_dataSet)"
      ],
      "execution_count": null,
      "outputs": [
        {
          "output_type": "execute_result",
          "data": {
            "text/plain": [
              "PCA(copy=True, iterated_power='auto', n_components=0.98, random_state=None,\n",
              "    svd_solver='auto', tol=0.0, whiten=False)"
            ]
          },
          "metadata": {
            "tags": []
          },
          "execution_count": 46
        }
      ]
    },
    {
      "cell_type": "code",
      "metadata": {
        "colab": {
          "base_uri": "https://localhost:8080/",
          "height": 307
        },
        "id": "-Crg5XooGTMa",
        "outputId": "8913ccb8-431e-4223-d048-8e95e1f55726"
      },
      "source": [
        "plt.figure(figsize=(8,4));\n",
        "\n",
        "n = 500 #index value, change to view different data\n",
        "\n",
        "# Original Image\n",
        "plt.subplot(1, 2, 1);\n",
        "plt.imshow(X[n].reshape(x_train.shape[1], x_train.shape[2]),\n",
        "              cmap = plt.cm.gray,);\n",
        "plt.xlabel(str(X.shape[1])+' components', fontsize = 14)\n",
        "plt.title('Original Image', fontsize = 20);\n",
        "\n",
        "# 196 principal components\n",
        "plt.subplot(1, 2, 2);\n",
        "plt.imshow(approximation[n].reshape(x_train.shape[1], x_train.shape[2]),\n",
        "              cmap = plt.cm.gray,);\n",
        "plt.xlabel(str(Clus_dataSet.shape[1]) +' components', fontsize = 14)\n",
        "plt.title(str(variance * 100) + '% of Variance Retained', fontsize = 20);\n",
        "\n",
        "print(y_train[n])"
      ],
      "execution_count": null,
      "outputs": [
        {
          "output_type": "stream",
          "text": [
            "3\n"
          ],
          "name": "stdout"
        },
        {
          "output_type": "display_data",
          "data": {
            "image/png": "[encoded data removed]",
            "text/plain": [
              "<Figure size 576x288 with 2 Axes>"
            ]
          },
          "metadata": {
            "tags": [],
            "needs_background": "light"
          }
        }
      ]
    },
    {
      "cell_type": "code",
      "metadata": {
        "id": "CuUQWpbeGVgU"
      },
      "source": [
        "k_means = KMeans(init = \"k-means++\", n_clusters = 10, n_init = 35)"
      ],
      "execution_count": null,
      "outputs": []
    },
    {
      "cell_type": "code",
      "metadata": {
        "colab": {
          "base_uri": "https://localhost:8080/"
        },
        "id": "w6PsmE5EGYHA",
        "outputId": "c601a199-557c-4f49-b9b6-7eb54ef446f1"
      },
      "source": [
        "k_means.fit(Clus_dataSet)"
      ],
      "execution_count": null,
      "outputs": [
        {
          "output_type": "execute_result",
          "data": {
            "text/plain": [
              "KMeans(algorithm='auto', copy_x=True, init='k-means++', max_iter=300,\n",
              "       n_clusters=10, n_init=35, n_jobs=None, precompute_distances='auto',\n",
              "       random_state=None, tol=0.0001, verbose=0)"
            ]
          },
          "metadata": {
            "tags": []
          },
          "execution_count": 49
        }
      ]
    },
    {
      "cell_type": "code",
      "metadata": {
        "colab": {
          "base_uri": "https://localhost:8080/"
        },
        "id": "WjmjeIJzGYRn",
        "outputId": "e88dabcc-9b43-437c-ed0d-645c181186ec"
      },
      "source": [
        "k_means_labels = k_means.labels_ #List of labels of each dataset\n",
        "print(\"The list of labels of the clusters are \" + str(np.unique(k_means_labels)))"
      ],
      "execution_count": null,
      "outputs": [
        {
          "output_type": "stream",
          "text": [
            "The list of labels of the clusters are [0 1 2 3 4 5 6 7 8 9]\n"
          ],
          "name": "stdout"
        }
      ]
    },
    {
      "cell_type": "code",
      "metadata": {
        "id": "ZFlDa3udGYbx"
      },
      "source": [
        "G = len(np.unique(k_means_labels)) #Number of labels\n",
        "\n",
        "#2D matrix  for an array of indexes of the given label\n",
        "cluster_index= [[] for i in range(G)]\n",
        "for i, label in enumerate(k_means_labels,0):\n",
        "    for n in range(G):\n",
        "        if label == n:\n",
        "            cluster_index[n].append(i)\n",
        "        else:\n",
        "            continue"
      ],
      "execution_count": null,
      "outputs": []
    },
    {
      "cell_type": "code",
      "metadata": {
        "id": "jC9slMifGiLO"
      },
      "source": [
        "y = y_train\n",
        "Y_clust = [[] for i in range(G)]\n",
        "for n in range(G):\n",
        "    Y_clust[n] = y[cluster_index[n]] #Y_clust[0] contains array of \"correct\" category from y_train for the cluster_index[0]\n",
        "    assert(len(Y_clust[n]) == len(cluster_index[n])) #dimension confirmation"
      ],
      "execution_count": null,
      "outputs": []
    },
    {
      "cell_type": "code",
      "metadata": {
        "id": "-rJADYdzGiZO"
      },
      "source": [
        "#counts the number of each category in each cluster\n",
        "def counter(cluster):\n",
        "    unique, counts = np.unique(cluster, return_counts=True)\n",
        "    label_index = dict(zip(unique, counts))\n",
        "    return label_index"
      ],
      "execution_count": null,
      "outputs": []
    },
    {
      "cell_type": "code",
      "metadata": {
        "colab": {
          "base_uri": "https://localhost:8080/"
        },
        "id": "Afc1QLwSGieW",
        "outputId": "a189ba77-2379-4a8b-e777-a6876080f95b"
      },
      "source": [
        "label_count= [[] for i in range(G)]\n",
        "for n in range(G):\n",
        "    label_count[n] = counter(Y_clust[n])\n",
        "\n",
        "label_count[1] #Number of items of a certain category in cluster 1"
      ],
      "execution_count": null,
      "outputs": [
        {
          "output_type": "execute_result",
          "data": {
            "text/plain": [
              "{0: 1670, 1: 154, 2: 1731, 3: 665, 4: 1080, 5: 35, 6: 2091, 8: 564, 9: 52}"
            ]
          },
          "metadata": {
            "tags": []
          },
          "execution_count": 54
        }
      ]
    },
    {
      "cell_type": "code",
      "metadata": {
        "id": "nufkdGrdGiiu"
      },
      "source": [
        "class_names = {0:'T-shirt/top', 1:'Trouser',2: 'Pullover',3: 'Dress',4: 'Coat',5:\n",
        "               'Sandal',6: 'Shirt', 7:'Sneaker',8:  'Bag',9: 'Ankle boot'} #Dictionary of class names\n",
        "\n",
        "#A function to plot a bar graph for visualising the number of items of certain category in a cluster\n",
        "def plotter(label_dict):\n",
        "    plt.bar(range(len(label_dict)), list(label_dict.values()), align='center')\n",
        "    a = []\n",
        "    for i in [*label_dict]: a.append(class_names[i])\n",
        "    plt.xticks(range(len(label_dict)), list(a), rotation=45, rotation_mode='anchor')"
      ],
      "execution_count": null,
      "outputs": []
    },
    {
      "cell_type": "code",
      "metadata": {
        "colab": {
          "base_uri": "https://localhost:8080/",
          "height": 1000
        },
        "id": "ZPG8pOANGo9R",
        "outputId": "60769c80-591f-4794-8369-88cd9e2ebb00"
      },
      "source": [
        "plt.figure(figsize=(20,20))\n",
        "for i in range (1,11):\n",
        "    plt.subplot(5, 2, i)\n",
        "    plotter(label_count[i-1]) \n",
        "    plt.title(\"Cluster\" + str(i-1))"
      ],
      "execution_count": null,
      "outputs": [
        {
          "output_type": "display_data",
          "data": {
            "image/png": "[encoded data removed]",
            "text/plain": [
              "<Figure size 1440x1440 with 10 Axes>"
            ]
          },
          "metadata": {
            "tags": [],
            "needs_background": "light"
          }
        }
      ]
    },
    {
      "cell_type": "markdown",
      "metadata": {
        "id": "3mr7LKa0B5Zu"
      },
      "source": [
        "Create Custom Dataset"
      ]
    },
    {
      "cell_type": "code",
      "metadata": {
        "id": "321Ak5hpKMif"
      },
      "source": [
        "custom_test_x = []"
      ],
      "execution_count": null,
      "outputs": []
    },
    {
      "cell_type": "code",
      "metadata": {
        "id": "OwdaVEgMLuM8"
      },
      "source": [
        "custom_test_y = []"
      ],
      "execution_count": null,
      "outputs": []
    },
    {
      "cell_type": "code",
      "metadata": {
        "colab": {
          "resources": {
            "http://localhost:8080/nbextensions/google.colab/files.js": {
              "data": "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",
              "ok": true,
              "headers": [
                [
                  "content-type",
                  "application/javascript"
                ]
              ],
              "status": 200,
              "status_text": ""
            }
          },
          "base_uri": "https://localhost:8080/",
          "height": 72
        },
        "id": "ARh9yrBDMPTB",
        "outputId": "3d330dde-a272-409d-f9fe-c9a6f0bfcd89"
      },
      "source": [
        "# Upload images\n",
        "from google.colab import files\n",
        "uploaded = files.upload()"
      ],
      "execution_count": null,
      "outputs": [
        {
          "output_type": "display_data",
          "data": {
            "text/html": [
              "\n",
              "     <input type=\"file\" id=\"files-16b1147b-52b8-4bed-b55a-52b52c7fb396\" name=\"files[]\" multiple disabled\n",
              "        style=\"border:none\" />\n",
              "     <output id=\"result-16b1147b-52b8-4bed-b55a-52b52c7fb396\">\n",
              "      Upload widget is only available when the cell has been executed in the\n",
              "      current browser session. Please rerun this cell to enable.\n",
              "      </output>\n",
              "      <script src=\"/nbextensions/google.colab/files.js\"></script> "
            ],
            "text/plain": [
              "<IPython.core.display.HTML object>"
            ]
          },
          "metadata": {
            "tags": []
          }
        },
        {
          "output_type": "stream",
          "text": [
            "Saving boot1.png to boot1.png\n"
          ],
          "name": "stdout"
        }
      ]
    },
    {
      "cell_type": "code",
      "metadata": {
        "id": "J0DyRESrMK5c"
      },
      "source": [
        "image_file = 'boot1.png' # Replace with uploaded image name"
      ],
      "execution_count": null,
      "outputs": []
    },
    {
      "cell_type": "code",
      "metadata": {
        "id": "c7tacWc_SeyT"
      },
      "source": [
        "def convert_image(image_file):\n",
        "  img = np.array(Image.open(image_file).convert('L'))\n",
        "  image_png = Image.fromarray(img)\n",
        "  image = image_png.resize([28, 28], Image.ANTIALIAS)\n",
        "  img_array = np.array(image)\n",
        "  img_array = img_array.astype('float')/255\n",
        "  print(img_array.shape)\n",
        "  plt.imshow(img_array, cmap='gray')\n",
        "  custom_test_x.append(img_array)\n",
        "  custom_test_y.append(9) # CHANGE THIS DEPENDING ON THE OBJECT LABEL"
      ],
      "execution_count": null,
      "outputs": []
    },
    {
      "cell_type": "code",
      "metadata": {
        "colab": {
          "base_uri": "https://localhost:8080/",
          "height": 282
        },
        "id": "JKG-hlNRL9AE",
        "outputId": "94a9e3ef-2eb7-4d58-da66-af480fcf125b"
      },
      "source": [
        "convert_image(image_file)"
      ],
      "execution_count": null,
      "outputs": [
        {
          "output_type": "stream",
          "text": [
            "(28, 28)\n"
          ],
          "name": "stdout"
        },
        {
          "output_type": "display_data",
          "data": {
            "image/png": "[encoded data removed]",
            "text/plain": [
              "<Figure size 432x288 with 1 Axes>"
            ]
          },
          "metadata": {
            "tags": [],
            "needs_background": "light"
          }
        }
      ]
    },
    {
      "cell_type": "code",
      "metadata": {
        "colab": {
          "base_uri": "https://localhost:8080/"
        },
        "id": "ojyoK1x9B8mJ",
        "outputId": "bc858335-81a5-4f00-ad06-4a89b4eb2058"
      },
      "source": [
        "custom_array_x = np.array(custom_test_x)\n",
        "custom_array_x.shape"
      ],
      "execution_count": null,
      "outputs": [
        {
          "output_type": "execute_result",
          "data": {
            "text/plain": [
              "(10, 28, 28)"
            ]
          },
          "metadata": {
            "tags": []
          },
          "execution_count": 346
        }
      ]
    },
    {
      "cell_type": "code",
      "metadata": {
        "colab": {
          "base_uri": "https://localhost:8080/"
        },
        "id": "bx6d7GfSLamH",
        "outputId": "757d35e6-fe2c-47e4-c761-1e415d723817"
      },
      "source": [
        "custom_array_y = np.array(custom_test_y)\n",
        "custom_array_y.shape\n",
        "custom_array_y"
      ],
      "execution_count": null,
      "outputs": [
        {
          "output_type": "execute_result",
          "data": {
            "text/plain": [
              "array([0, 1, 2, 3, 4, 5, 6, 7, 8, 9])"
            ]
          },
          "metadata": {
            "tags": []
          },
          "execution_count": 347
        }
      ]
    },
    {
      "cell_type": "code",
      "metadata": {
        "id": "e53PbfGyV-QB"
      },
      "source": [
        "custom_array_backup = custom_array_x\n",
        "custom_array_backup2 = custom_array_y"
      ],
      "execution_count": null,
      "outputs": []
    },
    {
      "cell_type": "markdown",
      "metadata": {
        "id": "vSzkm-DZB8xl"
      },
      "source": [
        "Evaluate Model Trained on EdgeMaps and Images on the Custom Dataset"
      ]
    },
    {
      "cell_type": "code",
      "metadata": {
        "colab": {
          "base_uri": "https://localhost:8080/",
          "height": 282
        },
        "id": "2Cm_psvLXH8x",
        "outputId": "ff35d615-d389-48e8-fd43-d690dcc22e29"
      },
      "source": [
        "plt.imshow(custom_array_x[0,:,:], cmap=\"gray\")"
      ],
      "execution_count": null,
      "outputs": [
        {
          "output_type": "execute_result",
          "data": {
            "text/plain": [
              "<matplotlib.image.AxesImage at 0x7f5a0539d3c8>"
            ]
          },
          "metadata": {
            "tags": []
          },
          "execution_count": 350
        },
        {
          "output_type": "display_data",
          "data": {
            "image/png": "[encoded data removed]",
            "text/plain": [
              "<Figure size 432x288 with 1 Axes>"
            ]
          },
          "metadata": {
            "tags": [],
            "needs_background": "light"
          }
        }
      ]
    },
    {
      "cell_type": "code",
      "metadata": {
        "id": "W88nGjnTXaA3"
      },
      "source": [
        "custom_array_x = custom_array_x.reshape(custom_array_x.shape[0], 28, 28, 1)"
      ],
      "execution_count": null,
      "outputs": []
    },
    {
      "cell_type": "code",
      "metadata": {
        "id": "gEOvY4fBB_kf"
      },
      "source": [
        "y_hats = model_1.predict(custom_array_x)"
      ],
      "execution_count": null,
      "outputs": []
    },
    {
      "cell_type": "code",
      "metadata": {
        "id": "b2XbTjWwX1fi"
      },
      "source": [
        "pred_values = []\n",
        "class_names = range(10)\n",
        "for i in range(10):\n",
        "  pred_values.append(class_names[y_hats[i].argmax()])\n",
        "\n",
        "pred_values = np.array(pred_values)"
      ],
      "execution_count": null,
      "outputs": []
    },
    {
      "cell_type": "code",
      "metadata": {
        "id": "Y-zQgfpVB_tA",
        "colab": {
          "base_uri": "https://localhost:8080/"
        },
        "outputId": "f033e7e3-d1c9-4aa4-c62e-fecd4908b515"
      },
      "source": [
        "y_hats"
      ],
      "execution_count": null,
      "outputs": [
        {
          "output_type": "execute_result",
          "data": {
            "text/plain": [
              "array([[3.38193953e-01, 8.66474503e-10, 1.42019587e-06, 9.85334282e-07,\n",
              "        2.63727173e-09, 4.02928663e-11, 6.61803722e-01, 1.73614387e-11,\n",
              "        8.04634404e-09, 4.08019001e-11],\n",
              "       [5.22511173e-03, 8.09534043e-02, 1.24908605e-04, 1.38465809e-02,\n",
              "        1.98733360e-01, 3.07128939e-05, 4.76511091e-01, 7.57429807e-05,\n",
              "        2.22615227e-01, 1.88389095e-03],\n",
              "       [4.73314553e-01, 2.00336770e-04, 1.69809647e-02, 1.86922553e-03,\n",
              "        2.28277408e-04, 1.23229538e-05, 5.06938159e-01, 1.88953936e-06,\n",
              "        4.00838064e-04, 5.34975952e-05],\n",
              "       [6.64583500e-03, 3.17131891e-03, 1.08203972e-02, 1.95667055e-02,\n",
              "        7.20149338e-01, 7.89442798e-04, 1.02400966e-01, 1.70744141e-03,\n",
              "        1.33923054e-01, 8.25512339e-04],\n",
              "       [2.46819947e-02, 4.43233032e-04, 1.97728304e-03, 4.09325818e-03,\n",
              "        1.62692543e-03, 2.94920096e-06, 9.62654173e-01, 7.40464827e-07,\n",
              "        4.50429320e-03, 1.52234261e-05],\n",
              "       [7.57324174e-02, 1.01677133e-05, 7.83282425e-03, 6.15736235e-06,\n",
              "        7.00425007e-05, 4.88150603e-04, 6.40248531e-04, 6.67286658e-05,\n",
              "        9.09526050e-01, 5.62725263e-03],\n",
              "       [2.68586755e-01, 3.16087948e-03, 5.03900535e-02, 4.26352816e-03,\n",
              "        4.44810372e-03, 8.93345801e-04, 5.82096517e-01, 1.10510807e-03,\n",
              "        3.60922553e-02, 4.89634760e-02],\n",
              "       [3.41798838e-08, 2.16456488e-08, 3.65120378e-10, 9.26326571e-10,\n",
              "        5.41099388e-09, 3.55458178e-05, 5.39545546e-08, 5.60745358e-01,\n",
              "        1.10021892e-06, 4.39217865e-01],\n",
              "       [5.60147641e-03, 3.09884897e-04, 5.44032380e-02, 2.19129070e-05,\n",
              "        1.77525710e-02, 1.10622648e-04, 3.23172919e-02, 4.47844248e-03,\n",
              "        8.84270966e-01, 7.33614666e-04],\n",
              "       [1.02887236e-01, 1.21163540e-02, 7.50213768e-03, 2.49269493e-02,\n",
              "        6.65134750e-03, 1.03261471e-01, 2.86363363e-02, 5.86036816e-02,\n",
              "        4.65516120e-01, 1.89898372e-01]], dtype=float32)"
            ]
          },
          "metadata": {
            "tags": []
          },
          "execution_count": 356
        }
      ]
    },
    {
      "cell_type": "code",
      "metadata": {
        "id": "aLZRybySB_z3",
        "colab": {
          "base_uri": "https://localhost:8080/"
        },
        "outputId": "e7110b11-7883-4ab3-fca5-c167a5b5dca5"
      },
      "source": [
        "pred_values"
      ],
      "execution_count": null,
      "outputs": [
        {
          "output_type": "execute_result",
          "data": {
            "text/plain": [
              "array([6, 6, 6, 4, 6, 8, 6, 7, 8, 8])"
            ]
          },
          "metadata": {
            "tags": []
          },
          "execution_count": 358
        }
      ]
    },
    {
      "cell_type": "code",
      "metadata": {
        "colab": {
          "base_uri": "https://localhost:8080/"
        },
        "id": "WbMWZ99aX9iW",
        "outputId": "c5e53a27-90c6-48e8-d432-d87d402b9151"
      },
      "source": [
        "custom_array_y"
      ],
      "execution_count": null,
      "outputs": [
        {
          "output_type": "execute_result",
          "data": {
            "text/plain": [
              "array([0, 1, 2, 3, 4, 5, 6, 7, 8, 9])"
            ]
          },
          "metadata": {
            "tags": []
          },
          "execution_count": 359
        }
      ]
    },
    {
      "cell_type": "code",
      "metadata": {
        "id": "lPvDApMli95i"
      },
      "source": [
        "y_hats = model_2.predict(custom_array_x)"
      ],
      "execution_count": null,
      "outputs": []
    },
    {
      "cell_type": "code",
      "metadata": {
        "id": "4YhofVcFjBgC"
      },
      "source": [
        "pred_values = []\n",
        "class_names = range(10)\n",
        "for i in range(10):\n",
        "  pred_values.append(class_names[y_hats[i].argmax()])\n",
        "\n",
        "pred_values = np.array(pred_values)"
      ],
      "execution_count": null,
      "outputs": []
    },
    {
      "cell_type": "code",
      "metadata": {
        "colab": {
          "base_uri": "https://localhost:8080/"
        },
        "id": "vmh2s11wjF3e",
        "outputId": "54ec74e4-c625-424e-bb40-6f3acac311cb"
      },
      "source": [
        "pred_values"
      ],
      "execution_count": null,
      "outputs": [
        {
          "output_type": "execute_result",
          "data": {
            "text/plain": [
              "array([2, 8, 8, 8, 8, 8, 8, 8, 8, 8])"
            ]
          },
          "metadata": {
            "tags": []
          },
          "execution_count": 365
        }
      ]
    }
  ]
}